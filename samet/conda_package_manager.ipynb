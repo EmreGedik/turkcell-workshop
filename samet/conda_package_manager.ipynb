{
 "cells": [
  {
   "cell_type": "markdown",
   "metadata": {},
   "source": [
    "# An Introduction to Anaconda’s Package Manager"
   ]
  },
  {
   "cell_type": "markdown",
   "metadata": {},
   "source": [
    "One of the major sources of inconvenience for aspiring data scientists are dealing with various programming packages and maintaining the programming environment.\n",
    "\n",
    "A typical machine learning project requires using lots of scientific packages like Numpy, Scipy and Matplotlib. Anaconda Distribution comes with the core Python language and more than 100 packages preinstalled and ready to satisfy any kind of data scientist’s expectations. In addition, dealing with Python packages is quite handy with Conda relative to other package managers like pip. \n",
    "\n",
    "Most of the libraries require a specific version of Python to run, and it's difficult to keep them from interacting with each other. Keeping them updated is another problem. For example, if you want to work with many Python packages which rely on external dependencies while tracking those dependencies in a meaningful way, pip can't help you.  \n",
    "\n",
    "Anaconda Distribution makes getting and maintaining these packages quick and easy with its pre-built and pre-configured collection of packages that can be installed and used on any system. Therefore, aspiring data scientists do not have to waste their time installing packages and making them run.\n",
    "\n",
    "In addition, Anaconda remove all the problems caused by admin privileges and crates a safe environment where there is no risk of messing up required system libraries\n",
    "\n",
    "https://conda.io/docs/user-guide/tasks/manage-environments.html#removing-an-environment"
   ]
  },
  {
   "cell_type": "markdown",
   "metadata": {},
   "source": [
    "# Managing environments"
   ]
  },
  {
   "cell_type": "code",
   "execution_count": 10,
   "metadata": {
    "scrolled": false
   },
   "outputs": [],
   "source": [
    "# !conda info --envs"
   ]
  },
  {
   "cell_type": "code",
   "execution_count": null,
   "metadata": {},
   "outputs": [],
   "source": [
    "# creating environemnt\n",
    "\n",
    "# !conda create --name deneme python=3.6"
   ]
  },
  {
   "cell_type": "code",
   "execution_count": null,
   "metadata": {},
   "outputs": [],
   "source": [
    "# activating new environment\n",
    "\n",
    "# !source activate deneme"
   ]
  },
  {
   "cell_type": "code",
   "execution_count": null,
   "metadata": {},
   "outputs": [],
   "source": [
    "# Installing packages \n",
    "\n",
    "# !conda install -c anaconda numpy "
   ]
  },
  {
   "cell_type": "code",
   "execution_count": 9,
   "metadata": {},
   "outputs": [],
   "source": [
    "# checking environment\n",
    "\n",
    "# !conda list"
   ]
  },
  {
   "cell_type": "code",
   "execution_count": null,
   "metadata": {},
   "outputs": [],
   "source": [
    "# !conda env create -f environment.yml"
   ]
  }
 ],
 "metadata": {
  "kernelspec": {
   "display_name": "Python 3",
   "language": "python",
   "name": "python3"
  },
  "language_info": {
   "codemirror_mode": {
    "name": "ipython",
    "version": 3
   },
   "file_extension": ".py",
   "mimetype": "text/x-python",
   "name": "python",
   "nbconvert_exporter": "python",
   "pygments_lexer": "ipython3",
   "version": "3.6.6"
  }
 },
 "nbformat": 4,
 "nbformat_minor": 2
}
