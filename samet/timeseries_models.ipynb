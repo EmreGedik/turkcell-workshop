{
 "cells": [
  {
   "cell_type": "markdown",
   "metadata": {},
   "source": [
    "# RESTAURANT - Time Series Models"
   ]
  },
  {
   "cell_type": "code",
   "execution_count": 1,
   "metadata": {},
   "outputs": [],
   "source": [
    "import numpy as np \n",
    "import pandas as pd\n",
    "import matplotlib.pyplot as plt\n",
    "import matplotlib.transforms as mtransforms\n",
    "import warnings\n",
    "import multiprocessing\n",
    "from multiprocessing import Pool\n",
    "import seaborn as sns\n",
    "import os\n",
    "warnings.simplefilter('ignore')"
   ]
  },
  {
   "cell_type": "code",
   "execution_count": 2,
   "metadata": {},
   "outputs": [],
   "source": [
    "from fbprophet import Prophet"
   ]
  },
  {
   "cell_type": "code",
   "execution_count": 3,
   "metadata": {},
   "outputs": [],
   "source": [
    "# global vars\n",
    "# plt.rcParams.keys()\n",
    "plt.rcParams['grid.linestyle'] ='--'\n",
    "plt.rcParams['grid.alpha'] = 0.4\n",
    "plt.rcParams['figure.figsize'] = [7,3]\n",
    "plt.rcParams[\"font.weight\"] = \"light\"\n",
    "plt.rcParams[\"axes.titleweight\"] = \"bold\"\n",
    "\n",
    "sns.set_palette(\"PRGn\", 10)"
   ]
  },
  {
   "cell_type": "code",
   "execution_count": 4,
   "metadata": {},
   "outputs": [],
   "source": [
    "%matplotlib inline"
   ]
  },
  {
   "cell_type": "code",
   "execution_count": 5,
   "metadata": {},
   "outputs": [],
   "source": [
    "from IPython.display import display_html\n",
    "\n",
    "def display_side_by_side(*args):\n",
    "    html_str=''\n",
    "    for df in args:\n",
    "        html_str+=df.to_html()\n",
    "    display_html(html_str.replace('table','table style=\"display:inline\"'),raw=True)"
   ]
  },
  {
   "cell_type": "markdown",
   "metadata": {},
   "source": [
    "# IMPORT DATA"
   ]
  },
  {
   "cell_type": "code",
   "execution_count": 6,
   "metadata": {},
   "outputs": [],
   "source": [
    "path_input = ('../input/')"
   ]
  },
  {
   "cell_type": "code",
   "execution_count": 7,
   "metadata": {
    "scrolled": true
   },
   "outputs": [],
   "source": [
    "air_visits = pd.read_csv(os.path.join(path_input,'air_visit_data.csv.gz'))\n",
    "air_reserve = pd.read_csv(os.path.join(path_input,'air_reserve.csv.gz'))\n",
    "hpg_reserve = pd.read_csv(os.path.join(path_input,'hpg_reserve.csv.gz'))\n",
    "air_store = pd.read_csv(os.path.join(path_input,'air_store_info.csv.gz'))\n",
    "hpg_store = pd.read_csv(os.path.join(path_input,'hpg_store_info.csv.gz'))\n",
    "holidays = pd.read_csv(os.path.join(path_input,'date_info.csv.gz'))\n",
    "store_ids = pd.read_csv(os.path.join(path_input,'store_id_relation.csv.gz'))\n",
    "test = pd.read_csv(os.path.join(path_input,'sample_submission.csv.gz'))"
   ]
  },
  {
   "cell_type": "code",
   "execution_count": 8,
   "metadata": {},
   "outputs": [
    {
     "data": {
      "text/html": [
       "<div>\n",
       "<style scoped>\n",
       "    .dataframe tbody tr th:only-of-type {\n",
       "        vertical-align: middle;\n",
       "    }\n",
       "\n",
       "    .dataframe tbody tr th {\n",
       "        vertical-align: top;\n",
       "    }\n",
       "\n",
       "    .dataframe thead th {\n",
       "        text-align: right;\n",
       "    }\n",
       "</style>\n",
       "<table border=\"1\" class=\"dataframe\">\n",
       "  <thead>\n",
       "    <tr style=\"text-align: right;\">\n",
       "      <th></th>\n",
       "      <th>air_store_id</th>\n",
       "      <th>visit_date</th>\n",
       "      <th>visitors</th>\n",
       "    </tr>\n",
       "  </thead>\n",
       "  <tbody>\n",
       "    <tr>\n",
       "      <th>0</th>\n",
       "      <td>air_ba937bf13d40fb24</td>\n",
       "      <td>2016-01-13</td>\n",
       "      <td>25</td>\n",
       "    </tr>\n",
       "    <tr>\n",
       "      <th>1</th>\n",
       "      <td>air_ba937bf13d40fb24</td>\n",
       "      <td>2016-01-14</td>\n",
       "      <td>32</td>\n",
       "    </tr>\n",
       "  </tbody>\n",
       "</table>\n",
       "</div>"
      ],
      "text/plain": [
       "           air_store_id  visit_date  visitors\n",
       "0  air_ba937bf13d40fb24  2016-01-13        25\n",
       "1  air_ba937bf13d40fb24  2016-01-14        32"
      ]
     },
     "execution_count": 8,
     "metadata": {},
     "output_type": "execute_result"
    }
   ],
   "source": [
    "air_visits.head(2)"
   ]
  },
  {
   "cell_type": "code",
   "execution_count": 9,
   "metadata": {},
   "outputs": [
    {
     "data": {
      "text/html": [
       "<div>\n",
       "<style scoped>\n",
       "    .dataframe tbody tr th:only-of-type {\n",
       "        vertical-align: middle;\n",
       "    }\n",
       "\n",
       "    .dataframe tbody tr th {\n",
       "        vertical-align: top;\n",
       "    }\n",
       "\n",
       "    .dataframe thead th {\n",
       "        text-align: right;\n",
       "    }\n",
       "</style>\n",
       "<table border=\"1\" class=\"dataframe\">\n",
       "  <thead>\n",
       "    <tr style=\"text-align: right;\">\n",
       "      <th></th>\n",
       "      <th>id</th>\n",
       "      <th>visitors</th>\n",
       "    </tr>\n",
       "  </thead>\n",
       "  <tbody>\n",
       "    <tr>\n",
       "      <th>0</th>\n",
       "      <td>air_00a91d42b08b08d9_2017-04-23</td>\n",
       "      <td>0</td>\n",
       "    </tr>\n",
       "    <tr>\n",
       "      <th>1</th>\n",
       "      <td>air_00a91d42b08b08d9_2017-04-24</td>\n",
       "      <td>0</td>\n",
       "    </tr>\n",
       "  </tbody>\n",
       "</table>\n",
       "</div>"
      ],
      "text/plain": [
       "                                id  visitors\n",
       "0  air_00a91d42b08b08d9_2017-04-23         0\n",
       "1  air_00a91d42b08b08d9_2017-04-24         0"
      ]
     },
     "execution_count": 9,
     "metadata": {},
     "output_type": "execute_result"
    }
   ],
   "source": [
    "test.head(2)"
   ]
  },
  {
   "cell_type": "markdown",
   "metadata": {},
   "source": [
    "# BASELINE MODELS  (without training algorithms)"
   ]
  },
  {
   "cell_type": "code",
   "execution_count": 10,
   "metadata": {},
   "outputs": [],
   "source": [
    "test['visit_date'] = test.id.apply(lambda x: x.split('_')[-1])\n",
    "\n",
    "test['air_store_id']= test.id.apply(lambda x: '_'.join(x.split('_')[:2]))"
   ]
  },
  {
   "cell_type": "markdown",
   "metadata": {},
   "source": [
    "# Time series with PROPHET Library"
   ]
  },
  {
   "cell_type": "markdown",
   "metadata": {},
   "source": [
    "which utilizes a Bayesian based curve fitting method to forecast the time series data. The cool thing about Prophet is that it doesn’t require much prior knowledge or experience of forecasting time series data since it automatically finds seasonal trends beneath the data and offers a set of ‘easy to understand’ parameters. Hence, it allows non statisticians to start using it and get reasonably good results that are often equal or sometimes even better than the ones produced by the experts."
   ]
  },
  {
   "cell_type": "markdown",
   "metadata": {},
   "source": [
    "# Prediction for a Restaurant"
   ]
  },
  {
   "cell_type": "code",
   "execution_count": 11,
   "metadata": {
    "scrolled": true
   },
   "outputs": [
    {
     "data": {
      "text/plain": [
       "821"
      ]
     },
     "execution_count": 11,
     "metadata": {},
     "output_type": "execute_result"
    }
   ],
   "source": [
    "# We need make prediction for all restaurants\n",
    "test.air_store_id.nunique()"
   ]
  },
  {
   "cell_type": "markdown",
   "metadata": {},
   "source": [
    "#### Preparing Visit Data for Prophet"
   ]
  },
  {
   "cell_type": "code",
   "execution_count": 12,
   "metadata": {
    "scrolled": false
   },
   "outputs": [
    {
     "name": "stdout",
     "output_type": "stream",
     "text": [
      "Picked air_4974785f48853db9\n"
     ]
    },
    {
     "data": {
      "image/png": "[encoded data removed]",
      "text/plain": [
       "<Figure size 1080x360 with 1 Axes>"
      ]
     },
     "metadata": {
      "needs_background": "light"
     },
     "output_type": "display_data"
    }
   ],
   "source": [
    "# # picking a random store from test data\n",
    "random_store = np.random.choice(test.air_store_id.unique())\n",
    "print(\"Picked {}\".format(random_store))\n",
    "\n",
    "data = air_visits[air_visits['air_store_id'] == random_store]\n",
    "\n",
    "data.plot(figsize=(15,5),title=random_store);"
   ]
  },
  {
   "cell_type": "code",
   "execution_count": 13,
   "metadata": {},
   "outputs": [],
   "source": [
    "## Filling missing dates\n",
    "# converting visit_date to datetime\n",
    "data['visit_date'] = pd.to_datetime(data['visit_date'])\n",
    "\n",
    "# setting date as an index\n",
    "data = data[['visit_date', 'visitors']].set_index('visit_date')\n",
    "\n",
    "# creating a new index which covers training time \n",
    "date_range = pd.date_range(start=pd.to_datetime('2016-07-01'),\n",
    "                           end=pd.to_datetime('2017-04-22'))\n",
    "# how many days to forecast\n",
    "forecast_days = (pd.to_datetime('2017-05-31')-pd.to_datetime('2017-04-22')).days\n",
    "\n",
    "# reindexing with full range of days and fillinf missing dates with 0\n",
    "data = data.reindex(date_range).fillna(0).reset_index()\n",
    "\n",
    "# converting columns names for prophet\n",
    "data.columns = ['ds', 'y']"
   ]
  },
  {
   "cell_type": "code",
   "execution_count": 14,
   "metadata": {
    "scrolled": false
   },
   "outputs": [
    {
     "data": {
      "text/html": [
       "<div>\n",
       "<style scoped>\n",
       "    .dataframe tbody tr th:only-of-type {\n",
       "        vertical-align: middle;\n",
       "    }\n",
       "\n",
       "    .dataframe tbody tr th {\n",
       "        vertical-align: top;\n",
       "    }\n",
       "\n",
       "    .dataframe thead th {\n",
       "        text-align: right;\n",
       "    }\n",
       "</style>\n",
       "<table border=\"1\" class=\"dataframe\">\n",
       "  <thead>\n",
       "    <tr style=\"text-align: right;\">\n",
       "      <th></th>\n",
       "      <th>ds</th>\n",
       "      <th>y</th>\n",
       "    </tr>\n",
       "  </thead>\n",
       "  <tbody>\n",
       "    <tr>\n",
       "      <th>0</th>\n",
       "      <td>2016-07-01</td>\n",
       "      <td>12.0</td>\n",
       "    </tr>\n",
       "    <tr>\n",
       "      <th>1</th>\n",
       "      <td>2016-07-02</td>\n",
       "      <td>2.0</td>\n",
       "    </tr>\n",
       "    <tr>\n",
       "      <th>2</th>\n",
       "      <td>2016-07-03</td>\n",
       "      <td>0.0</td>\n",
       "    </tr>\n",
       "    <tr>\n",
       "      <th>3</th>\n",
       "      <td>2016-07-04</td>\n",
       "      <td>2.0</td>\n",
       "    </tr>\n",
       "    <tr>\n",
       "      <th>4</th>\n",
       "      <td>2016-07-05</td>\n",
       "      <td>2.0</td>\n",
       "    </tr>\n",
       "  </tbody>\n",
       "</table>\n",
       "</div>"
      ],
      "text/plain": [
       "          ds     y\n",
       "0 2016-07-01  12.0\n",
       "1 2016-07-02   2.0\n",
       "2 2016-07-03   0.0\n",
       "3 2016-07-04   2.0\n",
       "4 2016-07-05   2.0"
      ]
     },
     "execution_count": 14,
     "metadata": {},
     "output_type": "execute_result"
    }
   ],
   "source": [
    "data.head()"
   ]
  },
  {
   "cell_type": "markdown",
   "metadata": {},
   "source": [
    "#### Holidays"
   ]
  },
  {
   "cell_type": "code",
   "execution_count": 15,
   "metadata": {},
   "outputs": [
    {
     "data": {
      "text/html": [
       "<div>\n",
       "<style scoped>\n",
       "    .dataframe tbody tr th:only-of-type {\n",
       "        vertical-align: middle;\n",
       "    }\n",
       "\n",
       "    .dataframe tbody tr th {\n",
       "        vertical-align: top;\n",
       "    }\n",
       "\n",
       "    .dataframe thead th {\n",
       "        text-align: right;\n",
       "    }\n",
       "</style>\n",
       "<table border=\"1\" class=\"dataframe\">\n",
       "  <thead>\n",
       "    <tr style=\"text-align: right;\">\n",
       "      <th></th>\n",
       "      <th>calendar_date</th>\n",
       "      <th>day_of_week</th>\n",
       "      <th>holiday_flg</th>\n",
       "    </tr>\n",
       "  </thead>\n",
       "  <tbody>\n",
       "    <tr>\n",
       "      <th>0</th>\n",
       "      <td>2016-01-01</td>\n",
       "      <td>Friday</td>\n",
       "      <td>1</td>\n",
       "    </tr>\n",
       "    <tr>\n",
       "      <th>1</th>\n",
       "      <td>2016-01-02</td>\n",
       "      <td>Saturday</td>\n",
       "      <td>1</td>\n",
       "    </tr>\n",
       "    <tr>\n",
       "      <th>2</th>\n",
       "      <td>2016-01-03</td>\n",
       "      <td>Sunday</td>\n",
       "      <td>1</td>\n",
       "    </tr>\n",
       "    <tr>\n",
       "      <th>3</th>\n",
       "      <td>2016-01-04</td>\n",
       "      <td>Monday</td>\n",
       "      <td>0</td>\n",
       "    </tr>\n",
       "    <tr>\n",
       "      <th>4</th>\n",
       "      <td>2016-01-05</td>\n",
       "      <td>Tuesday</td>\n",
       "      <td>0</td>\n",
       "    </tr>\n",
       "  </tbody>\n",
       "</table>\n",
       "</div>"
      ],
      "text/plain": [
       "  calendar_date day_of_week  holiday_flg\n",
       "0    2016-01-01      Friday            1\n",
       "1    2016-01-02    Saturday            1\n",
       "2    2016-01-03      Sunday            1\n",
       "3    2016-01-04      Monday            0\n",
       "4    2016-01-05     Tuesday            0"
      ]
     },
     "execution_count": 15,
     "metadata": {},
     "output_type": "execute_result"
    }
   ],
   "source": [
    "holidays.head()"
   ]
  },
  {
   "cell_type": "code",
   "execution_count": 16,
   "metadata": {},
   "outputs": [],
   "source": [
    "## Rearrange holidays to fit prophet format\n",
    "holidays = holidays.rename(columns={'calendar_date':'visit_date'})\n",
    "\n",
    "df_holidays = holidays[['visit_date','holiday_flg']]\n",
    "\n",
    "# converting columns names for prophet\n",
    "df_holidays.columns = ['ds', 'holiday']\n",
    "\n",
    "# picking only holidays\n",
    "df_holidays = df_holidays[df_holidays['holiday'] == 1]\n",
    "\n",
    "# converting flags to 'holiday'\n",
    "df_holidays['holiday'] = 'holiday'"
   ]
  },
  {
   "cell_type": "code",
   "execution_count": 17,
   "metadata": {},
   "outputs": [
    {
     "name": "stdout",
     "output_type": "stream",
     "text": [
      "CPU times: user 2.24 s, sys: 11.4 ms, total: 2.25 s\n",
      "Wall time: 2.25 s\n"
     ]
    }
   ],
   "source": [
    "%%time\n",
    "\n",
    "m = Prophet(holidays=df_holidays,\n",
    "            yearly_seasonality=False,   # inter year seasonilty (monthly)\n",
    "            weekly_seasonality=True,   # inter week seasonality (daily)\n",
    "            daily_seasonality=False,   # inter dat seasonality (hourly)\n",
    "    \n",
    "           )\n",
    "m.fit(data)\n",
    "future = m.make_future_dataframe(forecast_days)\n",
    "forecast = m.predict(future)"
   ]
  },
  {
   "cell_type": "code",
   "execution_count": 19,
   "metadata": {},
   "outputs": [
    {
     "data": {
      "image/png": "[encoded data removed]",
      "text/plain": [
       "<Figure size 648x648 with 3 Axes>"
      ]
     },
     "metadata": {},
     "output_type": "display_data"
    }
   ],
   "source": [
    "# components \n",
    "fig = m.plot_components(forecast)"
   ]
  },
  {
   "cell_type": "code",
   "execution_count": 20,
   "metadata": {},
   "outputs": [
    {
     "name": "stdout",
     "output_type": "stream",
     "text": [
      "training models for all restaurants : 0.44 hours\n"
     ]
    }
   ],
   "source": [
    "print('training models for all restaurants : {} hours'.format(round(2*800/60/60,2))) "
   ]
  },
  {
   "cell_type": "markdown",
   "metadata": {},
   "source": [
    "## Model with all data"
   ]
  },
  {
   "cell_type": "markdown",
   "metadata": {},
   "source": [
    "Ingridients:\n",
    "- DataFrame.apply : Apply a function along an axis of the DataFrame. Objects passed to the function are Series objects whose index is either the DataFrame’s index (axis=0) or the DataFrame’s columns (axis=1). \n",
    "- multiprocessing library"
   ]
  },
  {
   "cell_type": "markdown",
   "metadata": {},
   "source": [
    "## Prepare data"
   ]
  },
  {
   "cell_type": "code",
   "execution_count": 21,
   "metadata": {},
   "outputs": [],
   "source": [
    "# convert visit_date to date_time\n",
    "air_visits.visit_date = pd.to_datetime(air_visits.visit_date)\n",
    "\n",
    "# creating train and test date ranges\n",
    "train_range = pd.date_range(start=pd.to_datetime('2016-07-01'),\n",
    "                           end=pd.to_datetime('2017-04-22'))\n",
    "\n",
    "forecast_range = pd.date_range(start=pd.to_datetime('2017-04-23'),\n",
    "                           end=pd.to_datetime('2017-05-31'))\n",
    "\n",
    "forecast_days = len(forecast_range)\n",
    "\n",
    "# create a dataframe with null values\n",
    "train = pd.DataFrame(\n",
    "    index=train_range, columns=air_visits.air_store_id.unique())\n",
    "\n",
    "# unstack columns to fit air_visit format\n",
    "train = train.unstack().reset_index()\n",
    "\n",
    "# rename columns\n",
    "train.columns = ['air_store_id', 'visit_date', 0]\n",
    "\n",
    "# merge with air_visit table\n",
    "train = train.merge(air_visits, on=['air_store_id', 'visit_date'], how='left')[\n",
    "    ['air_store_id', 'visit_date', 'visitors']]\n",
    "\n",
    "# fill null values\n",
    "train = train.fillna(0)\n",
    "\n",
    "# make use of pandas apply method\n",
    "train = train.set_index(['air_store_id', 'visit_date']).unstack()"
   ]
  },
  {
   "cell_type": "code",
   "execution_count": 22,
   "metadata": {},
   "outputs": [],
   "source": [
    "## Rearrange holidays to fit prophet format\n",
    "holidays = holidays.rename(columns={'calendar_date':'visit_date'})\n",
    "\n",
    "df_holidays = holidays[['visit_date','holiday_flg']]\n",
    "\n",
    "# converting columns names for prophet\n",
    "df_holidays.columns = ['ds', 'holiday']\n",
    "\n",
    "# picking only holidays\n",
    "df_holidays = df_holidays[df_holidays['holiday'] == 1]\n",
    "\n",
    "# converting flags to 'holiday'\n",
    "df_holidays['holiday'] = 'holiday'"
   ]
  },
  {
   "cell_type": "code",
   "execution_count": 23,
   "metadata": {},
   "outputs": [
    {
     "data": {
      "text/html": [
       "<div>\n",
       "<style scoped>\n",
       "    .dataframe tbody tr th:only-of-type {\n",
       "        vertical-align: middle;\n",
       "    }\n",
       "\n",
       "    .dataframe tbody tr th {\n",
       "        vertical-align: top;\n",
       "    }\n",
       "\n",
       "    .dataframe thead tr th {\n",
       "        text-align: left;\n",
       "    }\n",
       "\n",
       "    .dataframe thead tr:last-of-type th {\n",
       "        text-align: right;\n",
       "    }\n",
       "</style>\n",
       "<table border=\"1\" class=\"dataframe\">\n",
       "  <thead>\n",
       "    <tr>\n",
       "      <th></th>\n",
       "      <th colspan=\"21\" halign=\"left\">visitors</th>\n",
       "    </tr>\n",
       "    <tr>\n",
       "      <th>visit_date</th>\n",
       "      <th>2016-07-01</th>\n",
       "      <th>2016-07-02</th>\n",
       "      <th>2016-07-03</th>\n",
       "      <th>2016-07-04</th>\n",
       "      <th>2016-07-05</th>\n",
       "      <th>2016-07-06</th>\n",
       "      <th>2016-07-07</th>\n",
       "      <th>2016-07-08</th>\n",
       "      <th>2016-07-09</th>\n",
       "      <th>2016-07-10</th>\n",
       "      <th>...</th>\n",
       "      <th>2017-04-13</th>\n",
       "      <th>2017-04-14</th>\n",
       "      <th>2017-04-15</th>\n",
       "      <th>2017-04-16</th>\n",
       "      <th>2017-04-17</th>\n",
       "      <th>2017-04-18</th>\n",
       "      <th>2017-04-19</th>\n",
       "      <th>2017-04-20</th>\n",
       "      <th>2017-04-21</th>\n",
       "      <th>2017-04-22</th>\n",
       "    </tr>\n",
       "    <tr>\n",
       "      <th>air_store_id</th>\n",
       "      <th></th>\n",
       "      <th></th>\n",
       "      <th></th>\n",
       "      <th></th>\n",
       "      <th></th>\n",
       "      <th></th>\n",
       "      <th></th>\n",
       "      <th></th>\n",
       "      <th></th>\n",
       "      <th></th>\n",
       "      <th></th>\n",
       "      <th></th>\n",
       "      <th></th>\n",
       "      <th></th>\n",
       "      <th></th>\n",
       "      <th></th>\n",
       "      <th></th>\n",
       "      <th></th>\n",
       "      <th></th>\n",
       "      <th></th>\n",
       "      <th></th>\n",
       "    </tr>\n",
       "  </thead>\n",
       "  <tbody>\n",
       "    <tr>\n",
       "      <th>air_00a91d42b08b08d9</th>\n",
       "      <td>35.0</td>\n",
       "      <td>9.0</td>\n",
       "      <td>0.0</td>\n",
       "      <td>20.0</td>\n",
       "      <td>25.0</td>\n",
       "      <td>29.0</td>\n",
       "      <td>34.0</td>\n",
       "      <td>42.0</td>\n",
       "      <td>11.0</td>\n",
       "      <td>0.0</td>\n",
       "      <td>...</td>\n",
       "      <td>34.0</td>\n",
       "      <td>39.0</td>\n",
       "      <td>0.0</td>\n",
       "      <td>0.0</td>\n",
       "      <td>19.0</td>\n",
       "      <td>35.0</td>\n",
       "      <td>17.0</td>\n",
       "      <td>38.0</td>\n",
       "      <td>55.0</td>\n",
       "      <td>18.0</td>\n",
       "    </tr>\n",
       "    <tr>\n",
       "      <th>air_0164b9927d20bcc3</th>\n",
       "      <td>0.0</td>\n",
       "      <td>0.0</td>\n",
       "      <td>0.0</td>\n",
       "      <td>0.0</td>\n",
       "      <td>0.0</td>\n",
       "      <td>0.0</td>\n",
       "      <td>0.0</td>\n",
       "      <td>0.0</td>\n",
       "      <td>0.0</td>\n",
       "      <td>0.0</td>\n",
       "      <td>...</td>\n",
       "      <td>13.0</td>\n",
       "      <td>7.0</td>\n",
       "      <td>1.0</td>\n",
       "      <td>0.0</td>\n",
       "      <td>2.0</td>\n",
       "      <td>1.0</td>\n",
       "      <td>8.0</td>\n",
       "      <td>1.0</td>\n",
       "      <td>26.0</td>\n",
       "      <td>6.0</td>\n",
       "    </tr>\n",
       "    <tr>\n",
       "      <th>air_0241aa3964b7f861</th>\n",
       "      <td>10.0</td>\n",
       "      <td>13.0</td>\n",
       "      <td>20.0</td>\n",
       "      <td>4.0</td>\n",
       "      <td>7.0</td>\n",
       "      <td>10.0</td>\n",
       "      <td>1.0</td>\n",
       "      <td>2.0</td>\n",
       "      <td>7.0</td>\n",
       "      <td>3.0</td>\n",
       "      <td>...</td>\n",
       "      <td>0.0</td>\n",
       "      <td>4.0</td>\n",
       "      <td>15.0</td>\n",
       "      <td>10.0</td>\n",
       "      <td>12.0</td>\n",
       "      <td>19.0</td>\n",
       "      <td>8.0</td>\n",
       "      <td>0.0</td>\n",
       "      <td>3.0</td>\n",
       "      <td>13.0</td>\n",
       "    </tr>\n",
       "    <tr>\n",
       "      <th>air_0328696196e46f18</th>\n",
       "      <td>0.0</td>\n",
       "      <td>0.0</td>\n",
       "      <td>11.0</td>\n",
       "      <td>4.0</td>\n",
       "      <td>6.0</td>\n",
       "      <td>4.0</td>\n",
       "      <td>8.0</td>\n",
       "      <td>8.0</td>\n",
       "      <td>12.0</td>\n",
       "      <td>4.0</td>\n",
       "      <td>...</td>\n",
       "      <td>0.0</td>\n",
       "      <td>9.0</td>\n",
       "      <td>4.0</td>\n",
       "      <td>3.0</td>\n",
       "      <td>3.0</td>\n",
       "      <td>0.0</td>\n",
       "      <td>24.0</td>\n",
       "      <td>0.0</td>\n",
       "      <td>19.0</td>\n",
       "      <td>8.0</td>\n",
       "    </tr>\n",
       "    <tr>\n",
       "      <th>air_034a3d5b40d5b1b1</th>\n",
       "      <td>19.0</td>\n",
       "      <td>23.0</td>\n",
       "      <td>5.0</td>\n",
       "      <td>13.0</td>\n",
       "      <td>0.0</td>\n",
       "      <td>10.0</td>\n",
       "      <td>3.0</td>\n",
       "      <td>23.0</td>\n",
       "      <td>12.0</td>\n",
       "      <td>13.0</td>\n",
       "      <td>...</td>\n",
       "      <td>22.0</td>\n",
       "      <td>18.0</td>\n",
       "      <td>31.0</td>\n",
       "      <td>39.0</td>\n",
       "      <td>25.0</td>\n",
       "      <td>20.0</td>\n",
       "      <td>31.0</td>\n",
       "      <td>12.0</td>\n",
       "      <td>37.0</td>\n",
       "      <td>35.0</td>\n",
       "    </tr>\n",
       "  </tbody>\n",
       "</table>\n",
       "<p>5 rows × 296 columns</p>\n",
       "</div>"
      ],
      "text/plain": [
       "                       visitors                                              \\\n",
       "visit_date           2016-07-01 2016-07-02 2016-07-03 2016-07-04 2016-07-05   \n",
       "air_store_id                                                                  \n",
       "air_00a91d42b08b08d9       35.0        9.0        0.0       20.0       25.0   \n",
       "air_0164b9927d20bcc3        0.0        0.0        0.0        0.0        0.0   \n",
       "air_0241aa3964b7f861       10.0       13.0       20.0        4.0        7.0   \n",
       "air_0328696196e46f18        0.0        0.0       11.0        4.0        6.0   \n",
       "air_034a3d5b40d5b1b1       19.0       23.0        5.0       13.0        0.0   \n",
       "\n",
       "                                                                             \\\n",
       "visit_date           2016-07-06 2016-07-07 2016-07-08 2016-07-09 2016-07-10   \n",
       "air_store_id                                                                  \n",
       "air_00a91d42b08b08d9       29.0       34.0       42.0       11.0        0.0   \n",
       "air_0164b9927d20bcc3        0.0        0.0        0.0        0.0        0.0   \n",
       "air_0241aa3964b7f861       10.0        1.0        2.0        7.0        3.0   \n",
       "air_0328696196e46f18        4.0        8.0        8.0       12.0        4.0   \n",
       "air_034a3d5b40d5b1b1       10.0        3.0       23.0       12.0       13.0   \n",
       "\n",
       "                        ...                                                  \\\n",
       "visit_date              ...     2017-04-13 2017-04-14 2017-04-15 2017-04-16   \n",
       "air_store_id            ...                                                   \n",
       "air_00a91d42b08b08d9    ...           34.0       39.0        0.0        0.0   \n",
       "air_0164b9927d20bcc3    ...           13.0        7.0        1.0        0.0   \n",
       "air_0241aa3964b7f861    ...            0.0        4.0       15.0       10.0   \n",
       "air_0328696196e46f18    ...            0.0        9.0        4.0        3.0   \n",
       "air_034a3d5b40d5b1b1    ...           22.0       18.0       31.0       39.0   \n",
       "\n",
       "                                                                             \\\n",
       "visit_date           2017-04-17 2017-04-18 2017-04-19 2017-04-20 2017-04-21   \n",
       "air_store_id                                                                  \n",
       "air_00a91d42b08b08d9       19.0       35.0       17.0       38.0       55.0   \n",
       "air_0164b9927d20bcc3        2.0        1.0        8.0        1.0       26.0   \n",
       "air_0241aa3964b7f861       12.0       19.0        8.0        0.0        3.0   \n",
       "air_0328696196e46f18        3.0        0.0       24.0        0.0       19.0   \n",
       "air_034a3d5b40d5b1b1       25.0       20.0       31.0       12.0       37.0   \n",
       "\n",
       "                                 \n",
       "visit_date           2017-04-22  \n",
       "air_store_id                     \n",
       "air_00a91d42b08b08d9       18.0  \n",
       "air_0164b9927d20bcc3        6.0  \n",
       "air_0241aa3964b7f861       13.0  \n",
       "air_0328696196e46f18        8.0  \n",
       "air_034a3d5b40d5b1b1       35.0  \n",
       "\n",
       "[5 rows x 296 columns]"
      ]
     },
     "execution_count": 23,
     "metadata": {},
     "output_type": "execute_result"
    }
   ],
   "source": [
    "train.head()"
   ]
  },
  {
   "cell_type": "code",
   "execution_count": 24,
   "metadata": {},
   "outputs": [],
   "source": [
    "def forecast_prophet(X):\n",
    "    # preparing data for prophet format\n",
    "    data = X.reset_index()\n",
    "    store_id = data.columns[2]\n",
    "    data = data.iloc[:,1:]\n",
    "    data.columns = ['ds', 'y']\n",
    "    # prediction\n",
    "    m = Prophet(holidays=df_holidays,\n",
    "            yearly_seasonality=False,\n",
    "            weekly_seasonality=True, \n",
    "            daily_seasonality=False,)\n",
    "    m.fit(data)\n",
    "    future = m.make_future_dataframe(forecast_days)\n",
    "    forecast = m.predict(future)\n",
    "    forecast = forecast[['ds', 'yhat']]\n",
    "    forecast.columns = ['id', 'visitors']\n",
    "\n",
    "    return forecast.visitors[-forecast_days:]\n",
    "\n",
    "cores = multiprocessing.cpu_count()\n",
    "# cores =2 \n",
    "\n",
    "def parallelize_dataframe(df, func):\n",
    "    # split data \n",
    "    df_split = np.array_split(df, cores)\n",
    "    # process pool object\n",
    "    pool = Pool(cores)\n",
    "    df = pd.concat(pool.map(func, df_split))\n",
    "    pool.close()\n",
    "    pool.join()\n",
    "    return df\n",
    "    \n",
    "def apply_prophet(df):\n",
    "    forecast =  df.apply(lambda x: forecast_prophet(x),axis=1)\n",
    "    return forecast"
   ]
  },
  {
   "cell_type": "code",
   "execution_count": 25,
   "metadata": {
    "scrolled": false
   },
   "outputs": [
    {
     "name": "stdout",
     "output_type": "stream",
     "text": [
      "CPU times: user 309 ms, sys: 414 ms, total: 723 ms\n",
      "Wall time: 1min 37s\n"
     ]
    }
   ],
   "source": [
    "%%time\n",
    "# # This is used for suppressing prophet info messages.\n",
    "# logging.getLogger('fbprophet.forecaster').propagate = False\n",
    "\n",
    "df_forecast_prophet = parallelize_dataframe(train, apply_prophet)"
   ]
  },
  {
   "cell_type": "code",
   "execution_count": 26,
   "metadata": {},
   "outputs": [],
   "source": [
    "## Formating Dataframe \n",
    "\n",
    "# renaming columns\n",
    "df_forecast_prophet.columns = [e.strftime('%Y-%m-%d') for e in forecast_range]\n",
    "\n",
    "# stacking columns\n",
    "df_forecast_prophet = df_forecast_prophet.stack().reset_index()\n",
    "\n",
    "# creating id column\n",
    "df_forecast_prophet['id'] = df_forecast_prophet.apply(lambda x:'%s_%s'%(x['air_store_id'], x['level_1']),axis=1)\n",
    "\n",
    "# rename visitors columns\n",
    "df_forecast_prophet = df_forecast_prophet.rename(columns={0:'visitors'})"
   ]
  },
  {
   "cell_type": "code",
   "execution_count": 27,
   "metadata": {},
   "outputs": [],
   "source": [
    "## Not all the restaurants in train data exist in test data\n",
    "\n",
    "# reindex forecast table\n",
    "df_forecast_prophet = df_forecast_prophet[['id','visitors']].set_index('id')\n",
    "# create a submission file\n",
    "test_prophet = test.set_index('id').copy()\n",
    "# update values\n",
    "test_prophet.update(df_forecast_prophet)"
   ]
  },
  {
   "cell_type": "markdown",
   "metadata": {},
   "source": [
    "#### submission"
   ]
  },
  {
   "cell_type": "code",
   "execution_count": 28,
   "metadata": {},
   "outputs": [],
   "source": [
    "# !mkdir submissions"
   ]
  },
  {
   "cell_type": "code",
   "execution_count": null,
   "metadata": {},
   "outputs": [],
   "source": [
    "# test_prophet.reset_index()[['id','visitors']].to_csv('./submissions/parallel_prophet_2012.csv', index=False)"
   ]
  },
  {
   "cell_type": "code",
   "execution_count": null,
   "metadata": {},
   "outputs": [],
   "source": [
    "train.sample().reset_index(sss)"
   ]
  },
  {
   "cell_type": "markdown",
   "metadata": {},
   "source": [
    "# Prophet Submission\n",
    "private:0.600  public:0.542"
   ]
  }
 ],
 "metadata": {
  "kernelspec": {
   "display_name": "Python 3",
   "language": "python",
   "name": "python3"
  },
  "language_info": {
   "codemirror_mode": {
    "name": "ipython",
    "version": 3
   },
   "file_extension": ".py",
   "mimetype": "text/x-python",
   "name": "python",
   "nbconvert_exporter": "python",
   "pygments_lexer": "ipython3",
   "version": "3.6.6"
  }
 },
 "nbformat": 4,
 "nbformat_minor": 2
}
