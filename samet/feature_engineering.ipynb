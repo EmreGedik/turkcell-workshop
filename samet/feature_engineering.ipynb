{
 "cells": [
  {
   "cell_type": "markdown",
   "metadata": {},
   "source": [
    "# RESTAURANT - Feature Engineering and Feature Selection"
   ]
  },
  {
   "cell_type": "code",
   "execution_count": 1,
   "metadata": {},
   "outputs": [],
   "source": [
    "from scipy import stats\n",
    "import numpy as np \n",
    "import pandas as pd\n",
    "import matplotlib.pyplot as plt\n",
    "import seaborn as sns\n",
    "import calendar\n",
    "import os\n",
    "import statsmodels.api as sm\n",
    "import matplotlib.transforms as mtransforms\n",
    "from scipy import stats\n",
    "import warnings\n",
    "from statsmodels.tsa.stattools import adfuller\n",
    "from IPython.display import Image\n",
    "import logging\n",
    "from fbprophet import Prophet\n",
    "import warnings\n",
    "warnings.simplefilter('ignore')\n",
    "import multiprocessing\n",
    "from multiprocessing import Pool\n",
    "\n",
    "warnings.simplefilter('ignore')"
   ]
  },
  {
   "cell_type": "code",
   "execution_count": 2,
   "metadata": {},
   "outputs": [],
   "source": [
    "from sklearn import preprocessing"
   ]
  },
  {
   "cell_type": "code",
   "execution_count": 3,
   "metadata": {},
   "outputs": [],
   "source": [
    "# global vars\n",
    "# plt.rcParams.keys()\n",
    "plt.rcParams['grid.linestyle'] ='--'\n",
    "plt.rcParams['grid.alpha'] = 0.4\n",
    "plt.rcParams['figure.figsize'] = [7,3]\n",
    "plt.rcParams[\"font.weight\"] = \"light\"\n",
    "plt.rcParams[\"axes.titleweight\"] = \"bold\"\n",
    "\n",
    "sns.set_palette(\"PRGn\", 10)"
   ]
  },
  {
   "cell_type": "code",
   "execution_count": 4,
   "metadata": {},
   "outputs": [],
   "source": [
    "%matplotlib inline"
   ]
  },
  {
   "cell_type": "code",
   "execution_count": 5,
   "metadata": {},
   "outputs": [],
   "source": [
    "from IPython.display import display_html\n",
    "\n",
    "def display_side_by_side(*args):\n",
    "    html_str=''\n",
    "    for df in args:\n",
    "        html_str+=df.to_html()\n",
    "    display_html(html_str.replace('table','table style=\"display:inline\"'),raw=True)"
   ]
  },
  {
   "cell_type": "markdown",
   "metadata": {},
   "source": [
    "# IMPORT DATA"
   ]
  },
  {
   "cell_type": "code",
   "execution_count": 6,
   "metadata": {},
   "outputs": [],
   "source": [
    "path_input = ('../input/')"
   ]
  },
  {
   "cell_type": "code",
   "execution_count": 7,
   "metadata": {
    "scrolled": true
   },
   "outputs": [
    {
     "name": "stdout",
     "output_type": "stream",
     "text": [
      "air_reserve.csv.gz\r\n",
      "air_store_info.csv.gz\r\n",
      "air_visit_data.csv.gz\r\n",
      "date_info.csv.gz\r\n",
      "hpg_reserve.csv.gz\r\n",
      "hpg_store_info.csv.gz\r\n",
      "sample_submission.csv.gz\r\n",
      "store_id_relation.csv.gz\r\n"
     ]
    }
   ],
   "source": [
    "!ls -1 {path_input}"
   ]
  },
  {
   "cell_type": "code",
   "execution_count": 8,
   "metadata": {
    "scrolled": true
   },
   "outputs": [],
   "source": [
    "air_reserve = pd.read_csv(os.path.join(path_input,'air_reserve.csv.gz'))\n",
    "air_store_info = pd.read_csv(os.path.join(path_input,'air_store_info.csv.gz'))\n",
    "air_visit_data = pd.read_csv(os.path.join(path_input,'air_visit_data.csv.gz'))\n",
    "date_info = pd.read_csv(os.path.join(path_input,'date_info.csv.gz'))\n",
    "hpg_reserve = pd.read_csv(os.path.join(path_input,'hpg_reserve.csv.gz'))\n",
    "hpg_store_info = pd.read_csv(os.path.join(path_input,'hpg_store_info.csv.gz'))\n",
    "sample_submission = pd.read_csv(os.path.join(path_input,'sample_submission.csv.gz'))\n",
    "store_id_relation = pd.read_csv(os.path.join(path_input,'store_id_relation.csv.gz'))"
   ]
  },
  {
   "cell_type": "markdown",
   "metadata": {},
   "source": [
    "# Feature engineering"
   ]
  },
  {
   "cell_type": "markdown",
   "metadata": {},
   "source": [
    "#### Feature engineering steps:\n",
    "\n",
    "create a seperate dataframe for feature enginnering (say train and test)\n",
    "\n",
    "for each feature:\n",
    "- create feature\n",
    "- rename columns\n",
    "- merge on train test dfs"
   ]
  },
  {
   "cell_type": "markdown",
   "metadata": {},
   "source": [
    "# VISIT TABLE"
   ]
  },
  {
   "cell_type": "code",
   "execution_count": 9,
   "metadata": {},
   "outputs": [],
   "source": [
    "train = air_visit_data.copy()\n",
    "test = sample_submission.copy()"
   ]
  },
  {
   "cell_type": "code",
   "execution_count": 10,
   "metadata": {
    "scrolled": true
   },
   "outputs": [],
   "source": [
    "test['air_store_id'] = test['id'].apply(lambda x: '_'.join(x.split('_')[:2]))\n",
    "\n",
    "test['visit_date'] = test['id'].apply(lambda x: x.split('_')[2])"
   ]
  },
  {
   "cell_type": "code",
   "execution_count": 11,
   "metadata": {
    "scrolled": true
   },
   "outputs": [
    {
     "data": {
      "text/plain": [
       "(829, 821)"
      ]
     },
     "execution_count": 11,
     "metadata": {},
     "output_type": "execute_result"
    }
   ],
   "source": [
    "train.air_store_id.nunique(),test.air_store_id.nunique()"
   ]
  },
  {
   "cell_type": "code",
   "execution_count": 12,
   "metadata": {},
   "outputs": [],
   "source": [
    "#drop id's not in test\n",
    "train = train[train.air_store_id.isin(test.air_store_id.unique())]"
   ]
  },
  {
   "cell_type": "markdown",
   "metadata": {},
   "source": [
    "## convert date format and create some date features"
   ]
  },
  {
   "cell_type": "code",
   "execution_count": 13,
   "metadata": {},
   "outputs": [],
   "source": [
    "train['visit_date'] = pd.to_datetime(train['visit_date'])\n",
    "train['year'] = train['visit_date'].dt.year\n",
    "train['dow'] =  train['visit_date'].dt.dayofweek\n",
    "train['dom'] = train['visit_date'].dt.day\n",
    "train['month'] = train['visit_date'].dt.month\n",
    "train['visit_date'] = train['visit_date'].dt.date"
   ]
  },
  {
   "cell_type": "code",
   "execution_count": 14,
   "metadata": {},
   "outputs": [],
   "source": [
    "test['visit_date'] = pd.to_datetime(test['visit_date'])\n",
    "test['year'] = test['visit_date'].dt.year\n",
    "test['dow'] = test['visit_date'].dt.dayofweek\n",
    "test['dom'] = test['visit_date'].dt.day\n",
    "test['month'] = test['visit_date'].dt.month\n",
    "test['visit_date'] = test['visit_date'].dt.date"
   ]
  },
  {
   "cell_type": "markdown",
   "metadata": {},
   "source": [
    "    Some restaurants at train dataset does not exit on test"
   ]
  },
  {
   "cell_type": "code",
   "execution_count": 16,
   "metadata": {},
   "outputs": [
    {
     "data": {
      "text/plain": [
       "0"
      ]
     },
     "execution_count": 16,
     "metadata": {},
     "output_type": "execute_result"
    }
   ],
   "source": [
    "len(set(train['air_store_id'].unique()) - set(test['air_store_id'].unique()))"
   ]
  },
  {
   "cell_type": "markdown",
   "metadata": {},
   "source": [
    "## VISIT / DATE FEATURES"
   ]
  },
  {
   "cell_type": "markdown",
   "metadata": {},
   "source": [
    "#### Day of week"
   ]
  },
  {
   "cell_type": "code",
   "execution_count": 18,
   "metadata": {},
   "outputs": [],
   "source": [
    "aggregations = ['mean','median','min','max','std']\n",
    "\n",
    "gr = train.groupby('dow')['visitors'].agg(aggregations)\n",
    "\n",
    "gr.columns = ['dow_{}'.format(e) for e in gr.columns]\n",
    "\n",
    "gr = gr.reset_index()"
   ]
  },
  {
   "cell_type": "code",
   "execution_count": 19,
   "metadata": {},
   "outputs": [],
   "source": [
    "train = train.merge(gr,on='dow',how='left')\n",
    "\n",
    "test = test.merge(gr,on='dow',how='left')"
   ]
  },
  {
   "cell_type": "markdown",
   "metadata": {},
   "source": [
    "#### Day of month"
   ]
  },
  {
   "cell_type": "code",
   "execution_count": 20,
   "metadata": {},
   "outputs": [],
   "source": [
    "aggregations = ['mean', 'median', 'min', 'max', 'std']\n",
    "\n",
    "gr = train.groupby('dom')['visitors'].agg(aggregations)\n",
    "\n",
    "gr.columns = ['dom_{}'.format(e) for e in gr.columns]\n",
    "\n",
    "gr = gr.reset_index()\n",
    "\n",
    "train = train.merge(gr, on='dom', how='left')\n",
    "\n",
    "test = test.merge(gr, on='dom', how='left')\n"
   ]
  },
  {
   "cell_type": "markdown",
   "metadata": {},
   "source": [
    "#### Month of year"
   ]
  },
  {
   "cell_type": "code",
   "execution_count": 21,
   "metadata": {
    "scrolled": false
   },
   "outputs": [],
   "source": [
    "aggregations = ['mean', 'median', 'min', 'max', 'std']\n",
    "\n",
    "gr = train.groupby('month')['visitors'].agg(aggregations)\n",
    "\n",
    "gr.columns = ['month_{}'.format(e) for e in gr.columns]\n",
    "\n",
    "gr = gr.reset_index()\n",
    "\n",
    "train = train.merge(gr, on='month', how='left')\n",
    "\n",
    "test = test.merge(gr, on='month', how='left')"
   ]
  },
  {
   "cell_type": "code",
   "execution_count": 22,
   "metadata": {},
   "outputs": [
    {
     "data": {
      "text/html": [
       "<div>\n",
       "<style scoped>\n",
       "    .dataframe tbody tr th:only-of-type {\n",
       "        vertical-align: middle;\n",
       "    }\n",
       "\n",
       "    .dataframe tbody tr th {\n",
       "        vertical-align: top;\n",
       "    }\n",
       "\n",
       "    .dataframe thead th {\n",
       "        text-align: right;\n",
       "    }\n",
       "</style>\n",
       "<table border=\"1\" class=\"dataframe\">\n",
       "  <thead>\n",
       "    <tr style=\"text-align: right;\">\n",
       "      <th></th>\n",
       "      <th>air_store_id</th>\n",
       "      <th>visit_date</th>\n",
       "      <th>visitors</th>\n",
       "      <th>year</th>\n",
       "      <th>dow</th>\n",
       "      <th>dom</th>\n",
       "      <th>month</th>\n",
       "      <th>dow_mean</th>\n",
       "      <th>dow_median</th>\n",
       "      <th>dow_min</th>\n",
       "      <th>...</th>\n",
       "      <th>dom_mean</th>\n",
       "      <th>dom_median</th>\n",
       "      <th>dom_min</th>\n",
       "      <th>dom_max</th>\n",
       "      <th>dom_std</th>\n",
       "      <th>month_mean</th>\n",
       "      <th>month_median</th>\n",
       "      <th>month_min</th>\n",
       "      <th>month_max</th>\n",
       "      <th>month_std</th>\n",
       "    </tr>\n",
       "  </thead>\n",
       "  <tbody>\n",
       "    <tr>\n",
       "      <th>0</th>\n",
       "      <td>air_ba937bf13d40fb24</td>\n",
       "      <td>2016-01-13</td>\n",
       "      <td>25</td>\n",
       "      <td>2016</td>\n",
       "      <td>2</td>\n",
       "      <td>13</td>\n",
       "      <td>1</td>\n",
       "      <td>19.217106</td>\n",
       "      <td>16</td>\n",
       "      <td>1</td>\n",
       "      <td>...</td>\n",
       "      <td>19.254301</td>\n",
       "      <td>15</td>\n",
       "      <td>1</td>\n",
       "      <td>269</td>\n",
       "      <td>15.294143</td>\n",
       "      <td>19.968233</td>\n",
       "      <td>16</td>\n",
       "      <td>1</td>\n",
       "      <td>514</td>\n",
       "      <td>16.041859</td>\n",
       "    </tr>\n",
       "    <tr>\n",
       "      <th>1</th>\n",
       "      <td>air_ba937bf13d40fb24</td>\n",
       "      <td>2016-01-14</td>\n",
       "      <td>32</td>\n",
       "      <td>2016</td>\n",
       "      <td>3</td>\n",
       "      <td>14</td>\n",
       "      <td>1</td>\n",
       "      <td>18.898359</td>\n",
       "      <td>15</td>\n",
       "      <td>1</td>\n",
       "      <td>...</td>\n",
       "      <td>20.194978</td>\n",
       "      <td>16</td>\n",
       "      <td>1</td>\n",
       "      <td>372</td>\n",
       "      <td>15.855515</td>\n",
       "      <td>19.968233</td>\n",
       "      <td>16</td>\n",
       "      <td>1</td>\n",
       "      <td>514</td>\n",
       "      <td>16.041859</td>\n",
       "    </tr>\n",
       "    <tr>\n",
       "      <th>2</th>\n",
       "      <td>air_ba937bf13d40fb24</td>\n",
       "      <td>2016-01-15</td>\n",
       "      <td>29</td>\n",
       "      <td>2016</td>\n",
       "      <td>4</td>\n",
       "      <td>15</td>\n",
       "      <td>1</td>\n",
       "      <td>23.087137</td>\n",
       "      <td>19</td>\n",
       "      <td>1</td>\n",
       "      <td>...</td>\n",
       "      <td>21.241133</td>\n",
       "      <td>18</td>\n",
       "      <td>1</td>\n",
       "      <td>150</td>\n",
       "      <td>16.096449</td>\n",
       "      <td>19.968233</td>\n",
       "      <td>16</td>\n",
       "      <td>1</td>\n",
       "      <td>514</td>\n",
       "      <td>16.041859</td>\n",
       "    </tr>\n",
       "    <tr>\n",
       "      <th>3</th>\n",
       "      <td>air_ba937bf13d40fb24</td>\n",
       "      <td>2016-01-16</td>\n",
       "      <td>22</td>\n",
       "      <td>2016</td>\n",
       "      <td>5</td>\n",
       "      <td>16</td>\n",
       "      <td>1</td>\n",
       "      <td>26.310500</td>\n",
       "      <td>22</td>\n",
       "      <td>1</td>\n",
       "      <td>...</td>\n",
       "      <td>21.392962</td>\n",
       "      <td>17</td>\n",
       "      <td>1</td>\n",
       "      <td>207</td>\n",
       "      <td>16.755058</td>\n",
       "      <td>19.968233</td>\n",
       "      <td>16</td>\n",
       "      <td>1</td>\n",
       "      <td>514</td>\n",
       "      <td>16.041859</td>\n",
       "    </tr>\n",
       "    <tr>\n",
       "      <th>4</th>\n",
       "      <td>air_ba937bf13d40fb24</td>\n",
       "      <td>2016-01-18</td>\n",
       "      <td>6</td>\n",
       "      <td>2016</td>\n",
       "      <td>0</td>\n",
       "      <td>18</td>\n",
       "      <td>1</td>\n",
       "      <td>17.170329</td>\n",
       "      <td>14</td>\n",
       "      <td>1</td>\n",
       "      <td>...</td>\n",
       "      <td>21.869031</td>\n",
       "      <td>18</td>\n",
       "      <td>1</td>\n",
       "      <td>777</td>\n",
       "      <td>18.646356</td>\n",
       "      <td>19.968233</td>\n",
       "      <td>16</td>\n",
       "      <td>1</td>\n",
       "      <td>514</td>\n",
       "      <td>16.041859</td>\n",
       "    </tr>\n",
       "  </tbody>\n",
       "</table>\n",
       "<p>5 rows × 22 columns</p>\n",
       "</div>"
      ],
      "text/plain": [
       "           air_store_id  visit_date  visitors  year  dow  dom  month  \\\n",
       "0  air_ba937bf13d40fb24  2016-01-13        25  2016    2   13      1   \n",
       "1  air_ba937bf13d40fb24  2016-01-14        32  2016    3   14      1   \n",
       "2  air_ba937bf13d40fb24  2016-01-15        29  2016    4   15      1   \n",
       "3  air_ba937bf13d40fb24  2016-01-16        22  2016    5   16      1   \n",
       "4  air_ba937bf13d40fb24  2016-01-18         6  2016    0   18      1   \n",
       "\n",
       "    dow_mean  dow_median  dow_min    ...       dom_mean  dom_median  dom_min  \\\n",
       "0  19.217106          16        1    ...      19.254301          15        1   \n",
       "1  18.898359          15        1    ...      20.194978          16        1   \n",
       "2  23.087137          19        1    ...      21.241133          18        1   \n",
       "3  26.310500          22        1    ...      21.392962          17        1   \n",
       "4  17.170329          14        1    ...      21.869031          18        1   \n",
       "\n",
       "   dom_max    dom_std  month_mean  month_median  month_min  month_max  \\\n",
       "0      269  15.294143   19.968233            16          1        514   \n",
       "1      372  15.855515   19.968233            16          1        514   \n",
       "2      150  16.096449   19.968233            16          1        514   \n",
       "3      207  16.755058   19.968233            16          1        514   \n",
       "4      777  18.646356   19.968233            16          1        514   \n",
       "\n",
       "   month_std  \n",
       "0  16.041859  \n",
       "1  16.041859  \n",
       "2  16.041859  \n",
       "3  16.041859  \n",
       "4  16.041859  \n",
       "\n",
       "[5 rows x 22 columns]"
      ]
     },
     "execution_count": 22,
     "metadata": {},
     "output_type": "execute_result"
    }
   ],
   "source": [
    "train.head()"
   ]
  },
  {
   "cell_type": "markdown",
   "metadata": {},
   "source": [
    "## STORE FEATURES"
   ]
  },
  {
   "cell_type": "markdown",
   "metadata": {},
   "source": [
    "#### Visitors by stores and days of weeks"
   ]
  },
  {
   "cell_type": "code",
   "execution_count": 23,
   "metadata": {},
   "outputs": [
    {
     "data": {
      "text/html": [
       "<div>\n",
       "<style scoped>\n",
       "    .dataframe tbody tr th:only-of-type {\n",
       "        vertical-align: middle;\n",
       "    }\n",
       "\n",
       "    .dataframe tbody tr th {\n",
       "        vertical-align: top;\n",
       "    }\n",
       "\n",
       "    .dataframe thead th {\n",
       "        text-align: right;\n",
       "    }\n",
       "</style>\n",
       "<table border=\"1\" class=\"dataframe\">\n",
       "  <thead>\n",
       "    <tr style=\"text-align: right;\">\n",
       "      <th></th>\n",
       "      <th>air_store_id</th>\n",
       "      <th>STORE_VISITORS_BY_DATE_min_0</th>\n",
       "      <th>STORE_VISITORS_BY_DATE_min_1</th>\n",
       "      <th>STORE_VISITORS_BY_DATE_min_2</th>\n",
       "      <th>STORE_VISITORS_BY_DATE_min_3</th>\n",
       "      <th>STORE_VISITORS_BY_DATE_min_4</th>\n",
       "      <th>STORE_VISITORS_BY_DATE_min_5</th>\n",
       "      <th>STORE_VISITORS_BY_DATE_min_6</th>\n",
       "      <th>STORE_VISITORS_BY_DATE_mean_0</th>\n",
       "      <th>STORE_VISITORS_BY_DATE_mean_1</th>\n",
       "      <th>...</th>\n",
       "      <th>STORE_VISITORS_BY_DATE_count_4</th>\n",
       "      <th>STORE_VISITORS_BY_DATE_count_5</th>\n",
       "      <th>STORE_VISITORS_BY_DATE_count_6</th>\n",
       "      <th>STORE_VISITORS_BY_DATE_std_0</th>\n",
       "      <th>STORE_VISITORS_BY_DATE_std_1</th>\n",
       "      <th>STORE_VISITORS_BY_DATE_std_2</th>\n",
       "      <th>STORE_VISITORS_BY_DATE_std_3</th>\n",
       "      <th>STORE_VISITORS_BY_DATE_std_4</th>\n",
       "      <th>STORE_VISITORS_BY_DATE_std_5</th>\n",
       "      <th>STORE_VISITORS_BY_DATE_std_6</th>\n",
       "    </tr>\n",
       "  </thead>\n",
       "  <tbody>\n",
       "    <tr>\n",
       "      <th>0</th>\n",
       "      <td>air_00a91d42b08b08d9</td>\n",
       "      <td>1.0</td>\n",
       "      <td>1.0</td>\n",
       "      <td>15.0</td>\n",
       "      <td>15.0</td>\n",
       "      <td>17.0</td>\n",
       "      <td>3.0</td>\n",
       "      <td>2.0</td>\n",
       "      <td>22.457143</td>\n",
       "      <td>24.350000</td>\n",
       "      <td>...</td>\n",
       "      <td>40.0</td>\n",
       "      <td>38.0</td>\n",
       "      <td>1.0</td>\n",
       "      <td>9.425693</td>\n",
       "      <td>9.093672</td>\n",
       "      <td>8.881521</td>\n",
       "      <td>7.143968</td>\n",
       "      <td>9.021342</td>\n",
       "      <td>16.793639</td>\n",
       "      <td>0.000000</td>\n",
       "    </tr>\n",
       "    <tr>\n",
       "      <th>1</th>\n",
       "      <td>air_0164b9927d20bcc3</td>\n",
       "      <td>2.0</td>\n",
       "      <td>1.0</td>\n",
       "      <td>2.0</td>\n",
       "      <td>1.0</td>\n",
       "      <td>3.0</td>\n",
       "      <td>1.0</td>\n",
       "      <td>0.0</td>\n",
       "      <td>7.500000</td>\n",
       "      <td>9.560000</td>\n",
       "      <td>...</td>\n",
       "      <td>28.0</td>\n",
       "      <td>22.0</td>\n",
       "      <td>0.0</td>\n",
       "      <td>5.226451</td>\n",
       "      <td>6.076457</td>\n",
       "      <td>6.271946</td>\n",
       "      <td>5.682903</td>\n",
       "      <td>6.914730</td>\n",
       "      <td>6.925860</td>\n",
       "      <td>0.000000</td>\n",
       "    </tr>\n",
       "    <tr>\n",
       "      <th>2</th>\n",
       "      <td>air_0241aa3964b7f861</td>\n",
       "      <td>2.0</td>\n",
       "      <td>1.0</td>\n",
       "      <td>2.0</td>\n",
       "      <td>1.0</td>\n",
       "      <td>1.0</td>\n",
       "      <td>2.0</td>\n",
       "      <td>1.0</td>\n",
       "      <td>8.920635</td>\n",
       "      <td>8.621212</td>\n",
       "      <td>...</td>\n",
       "      <td>61.0</td>\n",
       "      <td>65.0</td>\n",
       "      <td>64.0</td>\n",
       "      <td>4.790116</td>\n",
       "      <td>5.524115</td>\n",
       "      <td>4.902831</td>\n",
       "      <td>6.227181</td>\n",
       "      <td>6.762925</td>\n",
       "      <td>7.235164</td>\n",
       "      <td>5.826782</td>\n",
       "    </tr>\n",
       "    <tr>\n",
       "      <th>3</th>\n",
       "      <td>air_0328696196e46f18</td>\n",
       "      <td>2.0</td>\n",
       "      <td>2.0</td>\n",
       "      <td>1.0</td>\n",
       "      <td>1.0</td>\n",
       "      <td>1.0</td>\n",
       "      <td>2.0</td>\n",
       "      <td>1.0</td>\n",
       "      <td>6.416667</td>\n",
       "      <td>7.285714</td>\n",
       "      <td>...</td>\n",
       "      <td>22.0</td>\n",
       "      <td>17.0</td>\n",
       "      <td>17.0</td>\n",
       "      <td>7.115391</td>\n",
       "      <td>4.339950</td>\n",
       "      <td>5.973594</td>\n",
       "      <td>7.139369</td>\n",
       "      <td>4.244681</td>\n",
       "      <td>6.239697</td>\n",
       "      <td>10.607295</td>\n",
       "    </tr>\n",
       "    <tr>\n",
       "      <th>4</th>\n",
       "      <td>air_034a3d5b40d5b1b1</td>\n",
       "      <td>1.0</td>\n",
       "      <td>1.0</td>\n",
       "      <td>1.0</td>\n",
       "      <td>1.0</td>\n",
       "      <td>2.0</td>\n",
       "      <td>1.0</td>\n",
       "      <td>1.0</td>\n",
       "      <td>11.864865</td>\n",
       "      <td>10.888889</td>\n",
       "      <td>...</td>\n",
       "      <td>41.0</td>\n",
       "      <td>40.0</td>\n",
       "      <td>38.0</td>\n",
       "      <td>11.576226</td>\n",
       "      <td>8.594724</td>\n",
       "      <td>19.667217</td>\n",
       "      <td>8.480588</td>\n",
       "      <td>8.225629</td>\n",
       "      <td>12.134899</td>\n",
       "      <td>15.973841</td>\n",
       "    </tr>\n",
       "  </tbody>\n",
       "</table>\n",
       "<p>5 rows × 43 columns</p>\n",
       "</div>"
      ],
      "text/plain": [
       "           air_store_id  STORE_VISITORS_BY_DATE_min_0  \\\n",
       "0  air_00a91d42b08b08d9                           1.0   \n",
       "1  air_0164b9927d20bcc3                           2.0   \n",
       "2  air_0241aa3964b7f861                           2.0   \n",
       "3  air_0328696196e46f18                           2.0   \n",
       "4  air_034a3d5b40d5b1b1                           1.0   \n",
       "\n",
       "   STORE_VISITORS_BY_DATE_min_1  STORE_VISITORS_BY_DATE_min_2  \\\n",
       "0                           1.0                          15.0   \n",
       "1                           1.0                           2.0   \n",
       "2                           1.0                           2.0   \n",
       "3                           2.0                           1.0   \n",
       "4                           1.0                           1.0   \n",
       "\n",
       "   STORE_VISITORS_BY_DATE_min_3  STORE_VISITORS_BY_DATE_min_4  \\\n",
       "0                          15.0                          17.0   \n",
       "1                           1.0                           3.0   \n",
       "2                           1.0                           1.0   \n",
       "3                           1.0                           1.0   \n",
       "4                           1.0                           2.0   \n",
       "\n",
       "   STORE_VISITORS_BY_DATE_min_5  STORE_VISITORS_BY_DATE_min_6  \\\n",
       "0                           3.0                           2.0   \n",
       "1                           1.0                           0.0   \n",
       "2                           2.0                           1.0   \n",
       "3                           2.0                           1.0   \n",
       "4                           1.0                           1.0   \n",
       "\n",
       "   STORE_VISITORS_BY_DATE_mean_0  STORE_VISITORS_BY_DATE_mean_1  \\\n",
       "0                      22.457143                      24.350000   \n",
       "1                       7.500000                       9.560000   \n",
       "2                       8.920635                       8.621212   \n",
       "3                       6.416667                       7.285714   \n",
       "4                      11.864865                      10.888889   \n",
       "\n",
       "               ...               STORE_VISITORS_BY_DATE_count_4  \\\n",
       "0              ...                                         40.0   \n",
       "1              ...                                         28.0   \n",
       "2              ...                                         61.0   \n",
       "3              ...                                         22.0   \n",
       "4              ...                                         41.0   \n",
       "\n",
       "   STORE_VISITORS_BY_DATE_count_5  STORE_VISITORS_BY_DATE_count_6  \\\n",
       "0                            38.0                             1.0   \n",
       "1                            22.0                             0.0   \n",
       "2                            65.0                            64.0   \n",
       "3                            17.0                            17.0   \n",
       "4                            40.0                            38.0   \n",
       "\n",
       "   STORE_VISITORS_BY_DATE_std_0  STORE_VISITORS_BY_DATE_std_1  \\\n",
       "0                      9.425693                      9.093672   \n",
       "1                      5.226451                      6.076457   \n",
       "2                      4.790116                      5.524115   \n",
       "3                      7.115391                      4.339950   \n",
       "4                     11.576226                      8.594724   \n",
       "\n",
       "   STORE_VISITORS_BY_DATE_std_2  STORE_VISITORS_BY_DATE_std_3  \\\n",
       "0                      8.881521                      7.143968   \n",
       "1                      6.271946                      5.682903   \n",
       "2                      4.902831                      6.227181   \n",
       "3                      5.973594                      7.139369   \n",
       "4                     19.667217                      8.480588   \n",
       "\n",
       "   STORE_VISITORS_BY_DATE_std_4  STORE_VISITORS_BY_DATE_std_5  \\\n",
       "0                      9.021342                     16.793639   \n",
       "1                      6.914730                      6.925860   \n",
       "2                      6.762925                      7.235164   \n",
       "3                      4.244681                      6.239697   \n",
       "4                      8.225629                     12.134899   \n",
       "\n",
       "   STORE_VISITORS_BY_DATE_std_6  \n",
       "0                      0.000000  \n",
       "1                      0.000000  \n",
       "2                      5.826782  \n",
       "3                     10.607295  \n",
       "4                     15.973841  \n",
       "\n",
       "[5 rows x 43 columns]"
      ]
     },
     "execution_count": 23,
     "metadata": {},
     "output_type": "execute_result"
    }
   ],
   "source": [
    "stores_features = []\n",
    "\n",
    "gr = train.groupby(['air_store_id','dow'])['visitors'].agg(['min','mean','median','max','count','std'])\n",
    "   \n",
    "gr = gr.unstack(level=-1).fillna(0)\n",
    "\n",
    "gr.columns = ['STORE_VISITORS_BY_DATE_{}_{}'.format(e[0],e[1]) for e in gr.columns]\n",
    "\n",
    "stores_features.extend(gr.columns)\n",
    "\n",
    "gr = gr.reset_index()\n",
    "\n",
    "gr.head()"
   ]
  },
  {
   "cell_type": "code",
   "execution_count": 24,
   "metadata": {},
   "outputs": [],
   "source": [
    "train = pd.merge(train, gr, how='left', on=['air_store_id']) \n",
    "test = pd.merge(test, gr, how='left', on=['air_store_id']) "
   ]
  },
  {
   "cell_type": "markdown",
   "metadata": {},
   "source": [
    "# STORE TABLE"
   ]
  },
  {
   "cell_type": "markdown",
   "metadata": {},
   "source": [
    "## Label encode genres and areas"
   ]
  },
  {
   "cell_type": "code",
   "execution_count": 25,
   "metadata": {},
   "outputs": [
    {
     "data": {
      "text/html": [
       "<div>\n",
       "<style scoped>\n",
       "    .dataframe tbody tr th:only-of-type {\n",
       "        vertical-align: middle;\n",
       "    }\n",
       "\n",
       "    .dataframe tbody tr th {\n",
       "        vertical-align: top;\n",
       "    }\n",
       "\n",
       "    .dataframe thead th {\n",
       "        text-align: right;\n",
       "    }\n",
       "</style>\n",
       "<table border=\"1\" class=\"dataframe\">\n",
       "  <thead>\n",
       "    <tr style=\"text-align: right;\">\n",
       "      <th></th>\n",
       "      <th>air_store_id</th>\n",
       "      <th>air_genre_name</th>\n",
       "      <th>air_area_name</th>\n",
       "      <th>latitude</th>\n",
       "      <th>longitude</th>\n",
       "    </tr>\n",
       "  </thead>\n",
       "  <tbody>\n",
       "    <tr>\n",
       "      <th>0</th>\n",
       "      <td>air_0f0cdeee6c9bf3d7</td>\n",
       "      <td>Italian/French</td>\n",
       "      <td>Hyōgo-ken Kōbe-shi Kumoidōri</td>\n",
       "      <td>34.695124</td>\n",
       "      <td>135.197852</td>\n",
       "    </tr>\n",
       "    <tr>\n",
       "      <th>1</th>\n",
       "      <td>air_7cc17a324ae5c7dc</td>\n",
       "      <td>Italian/French</td>\n",
       "      <td>Hyōgo-ken Kōbe-shi Kumoidōri</td>\n",
       "      <td>34.695124</td>\n",
       "      <td>135.197852</td>\n",
       "    </tr>\n",
       "    <tr>\n",
       "      <th>2</th>\n",
       "      <td>air_fee8dcf4d619598e</td>\n",
       "      <td>Italian/French</td>\n",
       "      <td>Hyōgo-ken Kōbe-shi Kumoidōri</td>\n",
       "      <td>34.695124</td>\n",
       "      <td>135.197852</td>\n",
       "    </tr>\n",
       "    <tr>\n",
       "      <th>3</th>\n",
       "      <td>air_a17f0778617c76e2</td>\n",
       "      <td>Italian/French</td>\n",
       "      <td>Hyōgo-ken Kōbe-shi Kumoidōri</td>\n",
       "      <td>34.695124</td>\n",
       "      <td>135.197852</td>\n",
       "    </tr>\n",
       "    <tr>\n",
       "      <th>4</th>\n",
       "      <td>air_83db5aff8f50478e</td>\n",
       "      <td>Italian/French</td>\n",
       "      <td>Tōkyō-to Minato-ku Shibakōen</td>\n",
       "      <td>35.658068</td>\n",
       "      <td>139.751599</td>\n",
       "    </tr>\n",
       "  </tbody>\n",
       "</table>\n",
       "</div>"
      ],
      "text/plain": [
       "           air_store_id  air_genre_name                 air_area_name  \\\n",
       "0  air_0f0cdeee6c9bf3d7  Italian/French  Hyōgo-ken Kōbe-shi Kumoidōri   \n",
       "1  air_7cc17a324ae5c7dc  Italian/French  Hyōgo-ken Kōbe-shi Kumoidōri   \n",
       "2  air_fee8dcf4d619598e  Italian/French  Hyōgo-ken Kōbe-shi Kumoidōri   \n",
       "3  air_a17f0778617c76e2  Italian/French  Hyōgo-ken Kōbe-shi Kumoidōri   \n",
       "4  air_83db5aff8f50478e  Italian/French  Tōkyō-to Minato-ku Shibakōen   \n",
       "\n",
       "    latitude   longitude  \n",
       "0  34.695124  135.197852  \n",
       "1  34.695124  135.197852  \n",
       "2  34.695124  135.197852  \n",
       "3  34.695124  135.197852  \n",
       "4  35.658068  139.751599  "
      ]
     },
     "execution_count": 25,
     "metadata": {},
     "output_type": "execute_result"
    }
   ],
   "source": [
    "air_store_info.head()"
   ]
  },
  {
   "cell_type": "markdown",
   "metadata": {},
   "source": [
    "## Genre"
   ]
  },
  {
   "cell_type": "code",
   "execution_count": 26,
   "metadata": {},
   "outputs": [
    {
     "data": {
      "text/plain": [
       "array(['Italian/French', 'Dining bar', 'Yakiniku/Korean food',\n",
       "       'Cafe/Sweets', 'Izakaya', 'Okonomiyaki/Monja/Teppanyaki',\n",
       "       'Bar/Cocktail', 'Japanese food', 'Creative cuisine', 'Other',\n",
       "       'Western food', 'International cuisine', 'Asian', 'Karaoke/Party'],\n",
       "      dtype=object)"
      ]
     },
     "execution_count": 26,
     "metadata": {},
     "output_type": "execute_result"
    }
   ],
   "source": [
    "air_store_info.air_genre_name.unique()"
   ]
  },
  {
   "cell_type": "code",
   "execution_count": 27,
   "metadata": {},
   "outputs": [],
   "source": [
    "#init label encoder\n",
    "lbl = preprocessing.LabelEncoder()\n",
    "# label encode genre\n",
    "air_store_info['air_genre_name'] = lbl.fit_transform(air_store_info['air_genre_name'])"
   ]
  },
  {
   "cell_type": "code",
   "execution_count": 28,
   "metadata": {},
   "outputs": [],
   "source": [
    "train = pd.merge(train, air_store_info[['air_store_id', 'air_genre_name']], how='left', on=['air_store_id']) \n",
    "test = pd.merge(test, air_store_info[['air_store_id', 'air_genre_name']], how='left', on=['air_store_id'])"
   ]
  },
  {
   "cell_type": "markdown",
   "metadata": {},
   "source": [
    "#### Aggregations with genre"
   ]
  },
  {
   "cell_type": "code",
   "execution_count": 29,
   "metadata": {},
   "outputs": [],
   "source": [
    "aggregations = ['mean', 'median', 'min', 'max', 'std']\n",
    "\n",
    "gr = train.groupby('air_genre_name')['visitors'].agg(aggregations)\n",
    "\n",
    "gr.columns = ['genre_{}'.format(e) for e in gr.columns]\n",
    "\n",
    "gr = gr.reset_index()"
   ]
  },
  {
   "cell_type": "code",
   "execution_count": 30,
   "metadata": {},
   "outputs": [],
   "source": [
    "train = train.merge(gr, on='air_genre_name',how='left')\n",
    "test = test.merge(gr, on='air_genre_name',how='left')"
   ]
  },
  {
   "cell_type": "markdown",
   "metadata": {},
   "source": [
    "## AREA"
   ]
  },
  {
   "cell_type": "code",
   "execution_count": 31,
   "metadata": {
    "scrolled": true
   },
   "outputs": [
    {
     "name": "stdout",
     "output_type": "stream",
     "text": [
      "Fukuoka-ken Fukuoka-shi Daimyō\n",
      "Fukuoka-ken Fukuoka-shi Hakata Ekimae\n",
      "Fukuoka-ken Fukuoka-shi Imaizumi\n",
      "Fukuoka-ken Fukuoka-shi Momochi\n",
      "Fukuoka-ken Fukuoka-shi Shiobaru\n",
      "Fukuoka-ken Fukuoka-shi Takatori\n",
      "Fukuoka-ken Fukuoka-shi Tenjin\n",
      "Fukuoka-ken Fukuoka-shi Torikai\n",
      "Fukuoka-ken Itoshima-shi Maebarunishi\n",
      "Fukuoka-ken Kitakyūshū-shi Konyamachi\n",
      "Fukuoka-ken Kitakyūshū-shi None\n",
      "Fukuoka-ken Kitakyūshū-shi Ōtemachi\n",
      "Fukuoka-ken Kurume-shi Jōnanmachi\n",
      "Fukuoka-ken Yame-shi Motomachi\n",
      "Hiroshima-ken Fukuyama-shi Higashisakuramachi\n",
      "Hiroshima-ken Hiroshima-shi Kokutaijimachi\n",
      "Hiroshima-ken Hiroshima-shi Nagarekawachō\n",
      "Hokkaidō Abashiri-shi Minami 6 Jōhigashi\n",
      "Hokkaidō Asahikawa-shi 6 Jōdōri\n",
      "Hokkaidō Katō-gun Motomachi\n",
      "Hokkaidō Sapporo-shi Atsubetsuchūō 1 Jō\n",
      "Hokkaidō Sapporo-shi Kita 24 Jōnishi\n",
      "Hokkaidō Sapporo-shi Kotoni 2 Jō\n",
      "Hokkaidō Sapporo-shi Minami 3 Jōnishi\n",
      "Hyōgo-ken Amagasaki-shi Higashinanamatsuchō\n",
      "Hyōgo-ken Himeji-shi Yasuda\n",
      "Hyōgo-ken Kakogawa-shi Kakogawachō Kitazaike\n",
      "Hyōgo-ken Kōbe-shi Kumoidōri\n",
      "Hyōgo-ken Kōbe-shi Motomachidōri\n",
      "Hyōgo-ken Kōbe-shi Sumiyoshi Higashimachi\n",
      "Hyōgo-ken Nishinomiya-shi Rokutanjichō\n",
      "Hyōgo-ken Takarazuka-shi Tōyōchō\n",
      "Miyagi-ken Sendai-shi Kamisugi\n",
      "Niigata-ken Kashiwazaki-shi Chūōchō\n",
      "Niigata-ken Nagaoka-shi Ōtedōri\n",
      "Niigata-ken Niigata-shi Gakkōchōdōri 1 Banchō\n",
      "Niigata-ken Niigata-shi Teraohigashi\n",
      "Shizuoka-ken Hamamatsu-shi Motoshirochō\n",
      "Shizuoka-ken Numazu-shi Miyukichō\n",
      "Shizuoka-ken Shizuoka-shi Ōtemachi\n",
      "Tōkyō-to Adachi-ku Chūōhonchō\n",
      "Tōkyō-to Bunkyō-ku Kasuga\n",
      "Tōkyō-to Bunkyō-ku Sendagi\n",
      "Tōkyō-to Chiyoda-ku Kanda Jinbōchō\n",
      "Tōkyō-to Chiyoda-ku Kudanminami\n",
      "Tōkyō-to Chūō-ku Ginza\n",
      "Tōkyō-to Chūō-ku Tsukiji\n",
      "Tōkyō-to Edogawa-ku Chūō\n",
      "Tōkyō-to Fuchū-shi Miyanishichō\n",
      "Tōkyō-to Itabashi-ku Itabashi\n",
      "Tōkyō-to Katsushika-ku Tateishi\n",
      "Tōkyō-to Kita-ku Ōjihonchō\n",
      "Tōkyō-to Koganei-shi Honchō\n",
      "Tōkyō-to Kōtō-ku Kameido\n",
      "Tōkyō-to Kōtō-ku Tomioka\n",
      "Tōkyō-to Kōtō-ku Tōyō\n",
      "Tōkyō-to Machida-shi Morino\n",
      "Tōkyō-to Meguro-ku Jiyūgaoka\n",
      "Tōkyō-to Meguro-ku Kamimeguro\n",
      "Tōkyō-to Meguro-ku Takaban\n",
      "Tōkyō-to Minato-ku Akasaka\n",
      "Tōkyō-to Minato-ku Roppongi\n",
      "Tōkyō-to Minato-ku Shibakōen\n",
      "Tōkyō-to Musashino-shi Kichijōji Honchō\n",
      "Tōkyō-to Musashino-shi Midorichō\n",
      "Tōkyō-to Nakano-ku Nakano\n",
      "Tōkyō-to Nerima-ku Toyotamakita\n",
      "Tōkyō-to Setagaya-ku Kitazawa\n",
      "Tōkyō-to Setagaya-ku Okusawa\n",
      "Tōkyō-to Setagaya-ku Sangenjaya\n",
      "Tōkyō-to Setagaya-ku Setagaya\n",
      "Tōkyō-to Shibuya-ku Dōgenzaka\n",
      "Tōkyō-to Shibuya-ku Higashi\n",
      "Tōkyō-to Shibuya-ku Jingūmae\n",
      "Tōkyō-to Shibuya-ku Shibuya\n",
      "Tōkyō-to Shinagawa-ku Higashigotanda\n",
      "Tōkyō-to Shinagawa-ku Hiromachi\n",
      "Tōkyō-to Shinjuku-ku Kabukichō\n",
      "Tōkyō-to Shinjuku-ku Nishishinjuku\n",
      "Tōkyō-to Suginami-ku Asagayaminami\n",
      "Tōkyō-to Tachikawa-shi Izumichō\n",
      "Tōkyō-to Taitō-ku Asakusa\n",
      "Tōkyō-to Taitō-ku Higashiueno\n",
      "Tōkyō-to Taitō-ku Kuramae\n",
      "Tōkyō-to Toshima-ku Higashiikebukuro\n",
      "Tōkyō-to Toshima-ku Mejiro\n",
      "Tōkyō-to Toshima-ku Minamiikebukuro\n",
      "Tōkyō-to Toshima-ku Nishiikebukuro\n",
      "Tōkyō-to Toshima-ku Sugamo\n",
      "Tōkyō-to Ōta-ku Kamata\n",
      "Tōkyō-to Ōta-ku Kamiikedai\n",
      "Ōsaka-fu Higashiōsaka-shi Aramotokita\n",
      "Ōsaka-fu Neyagawa-shi Honmachi\n",
      "Ōsaka-fu Sakai-shi Minamikawaramachi\n",
      "Ōsaka-fu Suita-shi Izumichō\n",
      "Ōsaka-fu Ōsaka-shi Fuminosato\n",
      "Ōsaka-fu Ōsaka-shi Kyōmachibori\n",
      "Ōsaka-fu Ōsaka-shi Kyūtarōmachi\n",
      "Ōsaka-fu Ōsaka-shi Nakanochō\n",
      "Ōsaka-fu Ōsaka-shi Nanbasennichimae\n",
      "Ōsaka-fu Ōsaka-shi Shinmachi\n",
      "Ōsaka-fu Ōsaka-shi Ōgimachi\n",
      "Ōsaka-fu Ōsaka-shi Ōhiraki\n"
     ]
    }
   ],
   "source": [
    "for e in np.sort(air_store_info['air_area_name'].unique()):\n",
    "    print(e)"
   ]
  },
  {
   "cell_type": "code",
   "execution_count": 32,
   "metadata": {},
   "outputs": [],
   "source": [
    "# http://www.wikizeroo.net/index.php?q=aHR0cHM6Ly9lbi53aWtpcGVkaWEub3JnL3dpa2kvQWRtaW5pc3RyYXRpdmVfZGl2aXNpb25zX29mX0phcGFu"
   ]
  },
  {
   "cell_type": "code",
   "execution_count": 33,
   "metadata": {},
   "outputs": [],
   "source": [
    "air_store_info['air_area_name'] = air_store_info['air_area_name'].map(lambda x: str(str(x).replace('-',' ')))"
   ]
  },
  {
   "cell_type": "code",
   "execution_count": 34,
   "metadata": {
    "scrolled": true
   },
   "outputs": [],
   "source": [
    "air_store_info['air_area_name_1'] = air_store_info['air_area_name'].apply(lambda x: x.split()[0])\n",
    "\n",
    "air_store_info['air_area_name_2'] = air_store_info['air_area_name'].apply(lambda x: x.split()[1])\n",
    "\n",
    "air_store_info['air_area_name_3'] = air_store_info['air_area_name'].apply(lambda x: x.split()[2])\n",
    "\n",
    "air_store_info['air_area_name_4'] = air_store_info['air_area_name'].apply(lambda x: x.split()[3])\n",
    "\n",
    "air_store_info['air_area_name_5'] = air_store_info['air_area_name'].apply(lambda x: '_'.join(x.split()[3:]))"
   ]
  },
  {
   "cell_type": "code",
   "execution_count": 35,
   "metadata": {},
   "outputs": [],
   "source": [
    "for e in [cols for cols in air_store_info.columns if 'air_area_name' in cols]:\n",
    "        lbl = preprocessing.LabelEncoder()\n",
    "        air_store_info[e] = lbl.fit_transform(air_store_info[e])"
   ]
  },
  {
   "cell_type": "code",
   "execution_count": 37,
   "metadata": {},
   "outputs": [],
   "source": [
    "cols_area = [cols for cols in air_store_info.columns if 'air_area_name' in cols]"
   ]
  },
  {
   "cell_type": "code",
   "execution_count": 38,
   "metadata": {},
   "outputs": [],
   "source": [
    "train = pd.merge(train, air_store_info[['air_store_id']+cols_area], how='left', on=['air_store_id']) \n",
    "test = pd.merge(test, air_store_info[['air_store_id']+cols_area], how='left', on=['air_store_id'])"
   ]
  },
  {
   "cell_type": "markdown",
   "metadata": {},
   "source": [
    "# COORDINATE FEATURES"
   ]
  },
  {
   "cell_type": "code",
   "execution_count": 39,
   "metadata": {},
   "outputs": [],
   "source": [
    "air_store_info = pd.read_csv(os.path.join(path_input,'air_store_info.csv.gz'))"
   ]
  },
  {
   "cell_type": "code",
   "execution_count": 40,
   "metadata": {},
   "outputs": [],
   "source": [
    "from sklearn.cluster import KMeans\n",
    "kmeans = KMeans(n_clusters=10, random_state=0).fit(air_store_info[['longitude','latitude']])\n",
    "air_store_info['loc_cluster'] = kmeans.predict(air_store_info[['longitude','latitude']])"
   ]
  },
  {
   "cell_type": "code",
   "execution_count": 41,
   "metadata": {},
   "outputs": [],
   "source": [
    "# for _,e in air_store_info.groupby('loc_cluster'):\n",
    "#     display(e)"
   ]
  },
  {
   "cell_type": "code",
   "execution_count": 42,
   "metadata": {},
   "outputs": [],
   "source": [
    "cluster_centers = pd.DataFrame(kmeans.cluster_centers_)\n",
    "cluster_centers = cluster_centers.reset_index()\n",
    "cluster_centers.columns = ['loc_cluster','center_x','center_y'] "
   ]
  },
  {
   "cell_type": "code",
   "execution_count": 43,
   "metadata": {},
   "outputs": [],
   "source": [
    "air_store_info = air_store_info.merge(cluster_centers,on='loc_cluster',how='left')"
   ]
  },
  {
   "cell_type": "code",
   "execution_count": 44,
   "metadata": {},
   "outputs": [],
   "source": [
    "air_store_info['loc_distance_to_centroid'] = np.linalg.norm(air_store_info[['longitude','latitude']].values-\n",
    "               air_store_info[['center_x','center_y']].values,axis=1)\n"
   ]
  },
  {
   "cell_type": "code",
   "execution_count": 45,
   "metadata": {},
   "outputs": [],
   "source": [
    "loc_cols = [cols for cols in air_store_info if 'loc' in cols]"
   ]
  },
  {
   "cell_type": "code",
   "execution_count": 46,
   "metadata": {
    "scrolled": false
   },
   "outputs": [],
   "source": [
    "train = pd.merge(train, air_store_info[['air_store_id']+loc_cols], how='left', on=['air_store_id']) \n",
    "test = pd.merge(test, air_store_info[['air_store_id']+loc_cols], how='left', on=['air_store_id'])"
   ]
  },
  {
   "cell_type": "markdown",
   "metadata": {},
   "source": [
    "# RESERVATION FEAUTURES"
   ]
  },
  {
   "cell_type": "code",
   "execution_count": 47,
   "metadata": {
    "scrolled": false
   },
   "outputs": [
    {
     "data": {
      "text/html": [
       "<div>\n",
       "<style scoped>\n",
       "    .dataframe tbody tr th:only-of-type {\n",
       "        vertical-align: middle;\n",
       "    }\n",
       "\n",
       "    .dataframe tbody tr th {\n",
       "        vertical-align: top;\n",
       "    }\n",
       "\n",
       "    .dataframe thead th {\n",
       "        text-align: right;\n",
       "    }\n",
       "</style>\n",
       "<table border=\"1\" class=\"dataframe\">\n",
       "  <thead>\n",
       "    <tr style=\"text-align: right;\">\n",
       "      <th></th>\n",
       "      <th>air_store_id</th>\n",
       "      <th>visit_datetime</th>\n",
       "      <th>reserve_datetime</th>\n",
       "      <th>reserve_visitors</th>\n",
       "    </tr>\n",
       "  </thead>\n",
       "  <tbody>\n",
       "    <tr>\n",
       "      <th>0</th>\n",
       "      <td>air_877f79706adbfb06</td>\n",
       "      <td>2016-01-01 19:00:00</td>\n",
       "      <td>2016-01-01 16:00:00</td>\n",
       "      <td>1</td>\n",
       "    </tr>\n",
       "    <tr>\n",
       "      <th>1</th>\n",
       "      <td>air_db4b38ebe7a7ceff</td>\n",
       "      <td>2016-01-01 19:00:00</td>\n",
       "      <td>2016-01-01 19:00:00</td>\n",
       "      <td>3</td>\n",
       "    </tr>\n",
       "    <tr>\n",
       "      <th>2</th>\n",
       "      <td>air_db4b38ebe7a7ceff</td>\n",
       "      <td>2016-01-01 19:00:00</td>\n",
       "      <td>2016-01-01 19:00:00</td>\n",
       "      <td>6</td>\n",
       "    </tr>\n",
       "    <tr>\n",
       "      <th>3</th>\n",
       "      <td>air_877f79706adbfb06</td>\n",
       "      <td>2016-01-01 20:00:00</td>\n",
       "      <td>2016-01-01 16:00:00</td>\n",
       "      <td>2</td>\n",
       "    </tr>\n",
       "    <tr>\n",
       "      <th>4</th>\n",
       "      <td>air_db80363d35f10926</td>\n",
       "      <td>2016-01-01 20:00:00</td>\n",
       "      <td>2016-01-01 01:00:00</td>\n",
       "      <td>5</td>\n",
       "    </tr>\n",
       "  </tbody>\n",
       "</table>\n",
       "</div>"
      ],
      "text/plain": [
       "           air_store_id       visit_datetime     reserve_datetime  \\\n",
       "0  air_877f79706adbfb06  2016-01-01 19:00:00  2016-01-01 16:00:00   \n",
       "1  air_db4b38ebe7a7ceff  2016-01-01 19:00:00  2016-01-01 19:00:00   \n",
       "2  air_db4b38ebe7a7ceff  2016-01-01 19:00:00  2016-01-01 19:00:00   \n",
       "3  air_877f79706adbfb06  2016-01-01 20:00:00  2016-01-01 16:00:00   \n",
       "4  air_db80363d35f10926  2016-01-01 20:00:00  2016-01-01 01:00:00   \n",
       "\n",
       "   reserve_visitors  \n",
       "0                 1  \n",
       "1                 3  \n",
       "2                 6  \n",
       "3                 2  \n",
       "4                 5  "
      ]
     },
     "execution_count": 47,
     "metadata": {},
     "output_type": "execute_result"
    }
   ],
   "source": [
    "air_reserve.head()"
   ]
  },
  {
   "cell_type": "code",
   "execution_count": 48,
   "metadata": {
    "scrolled": true
   },
   "outputs": [],
   "source": [
    "air_reserve['visit_datetime'] = pd.to_datetime(air_reserve['visit_datetime'])\n",
    "air_reserve['reserve_datetime'] = pd.to_datetime(air_reserve['reserve_datetime'])\n",
    "air_reserve['visit_datetime'] = air_reserve['visit_datetime'].dt.date\n",
    "air_reserve['reserve_datetime'] = air_reserve['reserve_datetime'].dt.date\n",
    "air_reserve['reserve_datetime_diff'] = air_reserve.apply(lambda x: (x['visit_datetime'] - x['reserve_datetime']).days, axis=1)"
   ]
  },
  {
   "cell_type": "code",
   "execution_count": 49,
   "metadata": {},
   "outputs": [
    {
     "data": {
      "text/html": [
       "<div>\n",
       "<style scoped>\n",
       "    .dataframe tbody tr th:only-of-type {\n",
       "        vertical-align: middle;\n",
       "    }\n",
       "\n",
       "    .dataframe tbody tr th {\n",
       "        vertical-align: top;\n",
       "    }\n",
       "\n",
       "    .dataframe thead th {\n",
       "        text-align: right;\n",
       "    }\n",
       "</style>\n",
       "<table border=\"1\" class=\"dataframe\">\n",
       "  <thead>\n",
       "    <tr style=\"text-align: right;\">\n",
       "      <th></th>\n",
       "      <th>air_store_id</th>\n",
       "      <th>visit_date</th>\n",
       "      <th>air_reserve_reserve_datetime_diff_mean</th>\n",
       "      <th>air_reserve_reserve_datetime_diff_min</th>\n",
       "      <th>air_reserve_reserve_datetime_diff_max</th>\n",
       "      <th>air_reserve_reserve_datetime_diff_sum</th>\n",
       "      <th>air_reserve_reserve_datetime_diff_std</th>\n",
       "      <th>air_reserve_reserve_datetime_diff_median</th>\n",
       "      <th>air_reserve_reserve_visitors_mean</th>\n",
       "      <th>air_reserve_reserve_visitors_min</th>\n",
       "      <th>air_reserve_reserve_visitors_max</th>\n",
       "      <th>air_reserve_reserve_visitors_sum</th>\n",
       "      <th>air_reserve_reserve_visitors_std</th>\n",
       "      <th>air_reserve_reserve_visitors_median</th>\n",
       "    </tr>\n",
       "  </thead>\n",
       "  <tbody>\n",
       "    <tr>\n",
       "      <th>0</th>\n",
       "      <td>air_00a91d42b08b08d9</td>\n",
       "      <td>2016-10-31</td>\n",
       "      <td>0.0</td>\n",
       "      <td>0</td>\n",
       "      <td>0</td>\n",
       "      <td>0</td>\n",
       "      <td>NaN</td>\n",
       "      <td>0.0</td>\n",
       "      <td>2.0</td>\n",
       "      <td>2</td>\n",
       "      <td>2</td>\n",
       "      <td>2</td>\n",
       "      <td>NaN</td>\n",
       "      <td>2.0</td>\n",
       "    </tr>\n",
       "    <tr>\n",
       "      <th>1</th>\n",
       "      <td>air_00a91d42b08b08d9</td>\n",
       "      <td>2016-12-05</td>\n",
       "      <td>4.0</td>\n",
       "      <td>4</td>\n",
       "      <td>4</td>\n",
       "      <td>4</td>\n",
       "      <td>NaN</td>\n",
       "      <td>4.0</td>\n",
       "      <td>9.0</td>\n",
       "      <td>9</td>\n",
       "      <td>9</td>\n",
       "      <td>9</td>\n",
       "      <td>NaN</td>\n",
       "      <td>9.0</td>\n",
       "    </tr>\n",
       "  </tbody>\n",
       "</table>\n",
       "</div>"
      ],
      "text/plain": [
       "           air_store_id  visit_date  air_reserve_reserve_datetime_diff_mean  \\\n",
       "0  air_00a91d42b08b08d9  2016-10-31                                     0.0   \n",
       "1  air_00a91d42b08b08d9  2016-12-05                                     4.0   \n",
       "\n",
       "   air_reserve_reserve_datetime_diff_min  \\\n",
       "0                                      0   \n",
       "1                                      4   \n",
       "\n",
       "   air_reserve_reserve_datetime_diff_max  \\\n",
       "0                                      0   \n",
       "1                                      4   \n",
       "\n",
       "   air_reserve_reserve_datetime_diff_sum  \\\n",
       "0                                      0   \n",
       "1                                      4   \n",
       "\n",
       "   air_reserve_reserve_datetime_diff_std  \\\n",
       "0                                    NaN   \n",
       "1                                    NaN   \n",
       "\n",
       "   air_reserve_reserve_datetime_diff_median  \\\n",
       "0                                       0.0   \n",
       "1                                       4.0   \n",
       "\n",
       "   air_reserve_reserve_visitors_mean  air_reserve_reserve_visitors_min  \\\n",
       "0                                2.0                                 2   \n",
       "1                                9.0                                 9   \n",
       "\n",
       "   air_reserve_reserve_visitors_max  air_reserve_reserve_visitors_sum  \\\n",
       "0                                 2                                 2   \n",
       "1                                 9                                 9   \n",
       "\n",
       "   air_reserve_reserve_visitors_std  air_reserve_reserve_visitors_median  \n",
       "0                               NaN                                  2.0  \n",
       "1                               NaN                                  9.0  "
      ]
     },
     "execution_count": 49,
     "metadata": {},
     "output_type": "execute_result"
    }
   ],
   "source": [
    "# initialize a list to store column names \n",
    "air_reserve_features = []\n",
    "# aggregation list to aggregate\n",
    "aggregations =  ['mean', 'min', 'max', 'sum', 'std', 'median']\n",
    "# groupby and aggregataions\n",
    "gr = air_reserve.groupby(['air_store_id','visit_datetime'])\\\n",
    "[['reserve_datetime_diff', 'reserve_visitors']].agg(aggregations)\n",
    "# change column names\n",
    "gr.columns = ['air_reserve_{}_{}'.format(e[0],e[1]) for e in gr.columns]\n",
    "# add column nmes \n",
    "air_reserve_features.extend(gr.columns)\n",
    "# prepare for merge\n",
    "gr = gr.reset_index()\n",
    "gr = gr.rename(columns={'visit_datetime':'visit_date'})\n",
    "\n",
    "gr.head(2)"
   ]
  },
  {
   "cell_type": "code",
   "execution_count": 50,
   "metadata": {
    "scrolled": true
   },
   "outputs": [],
   "source": [
    "train = train.merge(gr, how='left', on=['air_store_id','visit_date'])\n",
    "test = test.merge(gr, how='left', on=['air_store_id','visit_date'])"
   ]
  },
  {
   "cell_type": "code",
   "execution_count": 51,
   "metadata": {
    "scrolled": true
   },
   "outputs": [
    {
     "data": {
      "text/html": [
       "<div>\n",
       "<style scoped>\n",
       "    .dataframe tbody tr th:only-of-type {\n",
       "        vertical-align: middle;\n",
       "    }\n",
       "\n",
       "    .dataframe tbody tr th {\n",
       "        vertical-align: top;\n",
       "    }\n",
       "\n",
       "    .dataframe thead th {\n",
       "        text-align: right;\n",
       "    }\n",
       "</style>\n",
       "<table border=\"1\" class=\"dataframe\">\n",
       "  <thead>\n",
       "    <tr style=\"text-align: right;\">\n",
       "      <th></th>\n",
       "      <th>air_store_id</th>\n",
       "      <th>visit_date</th>\n",
       "      <th>visitors</th>\n",
       "      <th>year</th>\n",
       "      <th>dow</th>\n",
       "      <th>dom</th>\n",
       "      <th>month</th>\n",
       "      <th>dow_mean</th>\n",
       "      <th>dow_median</th>\n",
       "      <th>dow_min</th>\n",
       "      <th>...</th>\n",
       "      <th>air_reserve_reserve_datetime_diff_max</th>\n",
       "      <th>air_reserve_reserve_datetime_diff_sum</th>\n",
       "      <th>air_reserve_reserve_datetime_diff_std</th>\n",
       "      <th>air_reserve_reserve_datetime_diff_median</th>\n",
       "      <th>air_reserve_reserve_visitors_mean</th>\n",
       "      <th>air_reserve_reserve_visitors_min</th>\n",
       "      <th>air_reserve_reserve_visitors_max</th>\n",
       "      <th>air_reserve_reserve_visitors_sum</th>\n",
       "      <th>air_reserve_reserve_visitors_std</th>\n",
       "      <th>air_reserve_reserve_visitors_median</th>\n",
       "    </tr>\n",
       "  </thead>\n",
       "  <tbody>\n",
       "    <tr>\n",
       "      <th>35703</th>\n",
       "      <td>air_fee8dcf4d619598e</td>\n",
       "      <td>2017-01-09</td>\n",
       "      <td>17</td>\n",
       "      <td>2017</td>\n",
       "      <td>0</td>\n",
       "      <td>9</td>\n",
       "      <td>1</td>\n",
       "      <td>17.170329</td>\n",
       "      <td>14</td>\n",
       "      <td>1</td>\n",
       "      <td>...</td>\n",
       "      <td>13.0</td>\n",
       "      <td>16.0</td>\n",
       "      <td>7.071068</td>\n",
       "      <td>8.0</td>\n",
       "      <td>2.5</td>\n",
       "      <td>2.0</td>\n",
       "      <td>3.0</td>\n",
       "      <td>5.0</td>\n",
       "      <td>0.707107</td>\n",
       "      <td>2.5</td>\n",
       "    </tr>\n",
       "  </tbody>\n",
       "</table>\n",
       "<p>1 rows × 90 columns</p>\n",
       "</div>"
      ],
      "text/plain": [
       "               air_store_id  visit_date  visitors  year  dow  dom  month  \\\n",
       "35703  air_fee8dcf4d619598e  2017-01-09        17  2017    0    9      1   \n",
       "\n",
       "        dow_mean  dow_median  dow_min                 ...                   \\\n",
       "35703  17.170329          14        1                 ...                    \n",
       "\n",
       "       air_reserve_reserve_datetime_diff_max  \\\n",
       "35703                                   13.0   \n",
       "\n",
       "       air_reserve_reserve_datetime_diff_sum  \\\n",
       "35703                                   16.0   \n",
       "\n",
       "       air_reserve_reserve_datetime_diff_std  \\\n",
       "35703                               7.071068   \n",
       "\n",
       "       air_reserve_reserve_datetime_diff_median  \\\n",
       "35703                                       8.0   \n",
       "\n",
       "       air_reserve_reserve_visitors_mean  air_reserve_reserve_visitors_min  \\\n",
       "35703                                2.5                               2.0   \n",
       "\n",
       "       air_reserve_reserve_visitors_max  air_reserve_reserve_visitors_sum  \\\n",
       "35703                               3.0                               5.0   \n",
       "\n",
       "       air_reserve_reserve_visitors_std  air_reserve_reserve_visitors_median  \n",
       "35703                          0.707107                                  2.5  \n",
       "\n",
       "[1 rows x 90 columns]"
      ]
     },
     "execution_count": 51,
     "metadata": {},
     "output_type": "execute_result"
    }
   ],
   "source": [
    "# sanity check\n",
    "train[(train.air_store_id=='air_fee8dcf4d619598e')&(train.visit_date == pd.to_datetime('2017-01-09').date())]"
   ]
  },
  {
   "cell_type": "markdown",
   "metadata": {},
   "source": [
    "###    do the same for hpg tables"
   ]
  },
  {
   "cell_type": "code",
   "execution_count": 52,
   "metadata": {},
   "outputs": [
    {
     "data": {
      "text/plain": [
       "(2000320, 4)"
      ]
     },
     "execution_count": 52,
     "metadata": {},
     "output_type": "execute_result"
    }
   ],
   "source": [
    "hpg_reserve.shape"
   ]
  },
  {
   "cell_type": "code",
   "execution_count": 53,
   "metadata": {
    "scrolled": true
   },
   "outputs": [
    {
     "data": {
      "text/html": [
       "<div>\n",
       "<style scoped>\n",
       "    .dataframe tbody tr th:only-of-type {\n",
       "        vertical-align: middle;\n",
       "    }\n",
       "\n",
       "    .dataframe tbody tr th {\n",
       "        vertical-align: top;\n",
       "    }\n",
       "\n",
       "    .dataframe thead th {\n",
       "        text-align: right;\n",
       "    }\n",
       "</style>\n",
       "<table border=\"1\" class=\"dataframe\">\n",
       "  <thead>\n",
       "    <tr style=\"text-align: right;\">\n",
       "      <th></th>\n",
       "      <th>hpg_store_id</th>\n",
       "      <th>visit_datetime</th>\n",
       "      <th>reserve_datetime</th>\n",
       "      <th>reserve_visitors</th>\n",
       "    </tr>\n",
       "  </thead>\n",
       "  <tbody>\n",
       "    <tr>\n",
       "      <th>0</th>\n",
       "      <td>hpg_c63f6f42e088e50f</td>\n",
       "      <td>2016-01-01 11:00:00</td>\n",
       "      <td>2016-01-01 09:00:00</td>\n",
       "      <td>1</td>\n",
       "    </tr>\n",
       "    <tr>\n",
       "      <th>1</th>\n",
       "      <td>hpg_dac72789163a3f47</td>\n",
       "      <td>2016-01-01 13:00:00</td>\n",
       "      <td>2016-01-01 06:00:00</td>\n",
       "      <td>3</td>\n",
       "    </tr>\n",
       "    <tr>\n",
       "      <th>2</th>\n",
       "      <td>hpg_c8e24dcf51ca1eb5</td>\n",
       "      <td>2016-01-01 16:00:00</td>\n",
       "      <td>2016-01-01 14:00:00</td>\n",
       "      <td>2</td>\n",
       "    </tr>\n",
       "    <tr>\n",
       "      <th>3</th>\n",
       "      <td>hpg_24bb207e5fd49d4a</td>\n",
       "      <td>2016-01-01 17:00:00</td>\n",
       "      <td>2016-01-01 11:00:00</td>\n",
       "      <td>5</td>\n",
       "    </tr>\n",
       "    <tr>\n",
       "      <th>4</th>\n",
       "      <td>hpg_25291c542ebb3bc2</td>\n",
       "      <td>2016-01-01 17:00:00</td>\n",
       "      <td>2016-01-01 03:00:00</td>\n",
       "      <td>13</td>\n",
       "    </tr>\n",
       "  </tbody>\n",
       "</table>\n",
       "</div>"
      ],
      "text/plain": [
       "           hpg_store_id       visit_datetime     reserve_datetime  \\\n",
       "0  hpg_c63f6f42e088e50f  2016-01-01 11:00:00  2016-01-01 09:00:00   \n",
       "1  hpg_dac72789163a3f47  2016-01-01 13:00:00  2016-01-01 06:00:00   \n",
       "2  hpg_c8e24dcf51ca1eb5  2016-01-01 16:00:00  2016-01-01 14:00:00   \n",
       "3  hpg_24bb207e5fd49d4a  2016-01-01 17:00:00  2016-01-01 11:00:00   \n",
       "4  hpg_25291c542ebb3bc2  2016-01-01 17:00:00  2016-01-01 03:00:00   \n",
       "\n",
       "   reserve_visitors  \n",
       "0                 1  \n",
       "1                 3  \n",
       "2                 2  \n",
       "3                 5  \n",
       "4                13  "
      ]
     },
     "execution_count": 53,
     "metadata": {},
     "output_type": "execute_result"
    }
   ],
   "source": [
    "hpg_reserve.head()"
   ]
  },
  {
   "cell_type": "code",
   "execution_count": 54,
   "metadata": {
    "scrolled": true
   },
   "outputs": [
    {
     "data": {
      "text/html": [
       "<div>\n",
       "<style scoped>\n",
       "    .dataframe tbody tr th:only-of-type {\n",
       "        vertical-align: middle;\n",
       "    }\n",
       "\n",
       "    .dataframe tbody tr th {\n",
       "        vertical-align: top;\n",
       "    }\n",
       "\n",
       "    .dataframe thead th {\n",
       "        text-align: right;\n",
       "    }\n",
       "</style>\n",
       "<table border=\"1\" class=\"dataframe\">\n",
       "  <thead>\n",
       "    <tr style=\"text-align: right;\">\n",
       "      <th></th>\n",
       "      <th>air_store_id</th>\n",
       "      <th>hpg_store_id</th>\n",
       "    </tr>\n",
       "  </thead>\n",
       "  <tbody>\n",
       "    <tr>\n",
       "      <th>0</th>\n",
       "      <td>air_63b13c56b7201bd9</td>\n",
       "      <td>hpg_4bc649e72e2a239a</td>\n",
       "    </tr>\n",
       "    <tr>\n",
       "      <th>1</th>\n",
       "      <td>air_a24bf50c3e90d583</td>\n",
       "      <td>hpg_c34b496d0305a809</td>\n",
       "    </tr>\n",
       "  </tbody>\n",
       "</table>\n",
       "</div>"
      ],
      "text/plain": [
       "           air_store_id          hpg_store_id\n",
       "0  air_63b13c56b7201bd9  hpg_4bc649e72e2a239a\n",
       "1  air_a24bf50c3e90d583  hpg_c34b496d0305a809"
      ]
     },
     "execution_count": 54,
     "metadata": {},
     "output_type": "execute_result"
    }
   ],
   "source": [
    "# first, merge hpg_reserve and store_id table to put air_reserve_id info\n",
    "store_id_relation.head(2)"
   ]
  },
  {
   "cell_type": "code",
   "execution_count": 55,
   "metadata": {},
   "outputs": [],
   "source": [
    "# we are losing lots of information since we keep less than 0.02 rows of the hpg_reserves \n",
    "# table!\n",
    "\n",
    "# how='inner' keep restaurants that only hve both air and hpg ids\n",
    "hpg_air_reserve = pd.merge(hpg_reserve,store_id_relation,how='inner', on=['hpg_store_id'])"
   ]
  },
  {
   "cell_type": "code",
   "execution_count": 56,
   "metadata": {},
   "outputs": [
    {
     "data": {
      "text/plain": [
       "(28183, 5)"
      ]
     },
     "execution_count": 56,
     "metadata": {},
     "output_type": "execute_result"
    }
   ],
   "source": [
    "hpg_air_reserve.shape"
   ]
  },
  {
   "cell_type": "code",
   "execution_count": 57,
   "metadata": {
    "scrolled": true
   },
   "outputs": [
    {
     "data": {
      "text/html": [
       "<div>\n",
       "<style scoped>\n",
       "    .dataframe tbody tr th:only-of-type {\n",
       "        vertical-align: middle;\n",
       "    }\n",
       "\n",
       "    .dataframe tbody tr th {\n",
       "        vertical-align: top;\n",
       "    }\n",
       "\n",
       "    .dataframe thead th {\n",
       "        text-align: right;\n",
       "    }\n",
       "</style>\n",
       "<table border=\"1\" class=\"dataframe\">\n",
       "  <thead>\n",
       "    <tr style=\"text-align: right;\">\n",
       "      <th></th>\n",
       "      <th>hpg_store_id</th>\n",
       "      <th>visit_datetime</th>\n",
       "      <th>reserve_datetime</th>\n",
       "      <th>reserve_visitors</th>\n",
       "      <th>air_store_id</th>\n",
       "    </tr>\n",
       "  </thead>\n",
       "  <tbody>\n",
       "    <tr>\n",
       "      <th>0</th>\n",
       "      <td>hpg_878cc70b1abc76f7</td>\n",
       "      <td>2016-01-01 19:00:00</td>\n",
       "      <td>2016-01-01 15:00:00</td>\n",
       "      <td>4</td>\n",
       "      <td>air_db80363d35f10926</td>\n",
       "    </tr>\n",
       "    <tr>\n",
       "      <th>1</th>\n",
       "      <td>hpg_878cc70b1abc76f7</td>\n",
       "      <td>2016-01-02 19:00:00</td>\n",
       "      <td>2016-01-02 14:00:00</td>\n",
       "      <td>2</td>\n",
       "      <td>air_db80363d35f10926</td>\n",
       "    </tr>\n",
       "  </tbody>\n",
       "</table>\n",
       "</div>"
      ],
      "text/plain": [
       "           hpg_store_id       visit_datetime     reserve_datetime  \\\n",
       "0  hpg_878cc70b1abc76f7  2016-01-01 19:00:00  2016-01-01 15:00:00   \n",
       "1  hpg_878cc70b1abc76f7  2016-01-02 19:00:00  2016-01-02 14:00:00   \n",
       "\n",
       "   reserve_visitors          air_store_id  \n",
       "0                 4  air_db80363d35f10926  \n",
       "1                 2  air_db80363d35f10926  "
      ]
     },
     "execution_count": 57,
     "metadata": {},
     "output_type": "execute_result"
    }
   ],
   "source": [
    "hpg_air_reserve.head(2)"
   ]
  },
  {
   "cell_type": "markdown",
   "metadata": {},
   "source": [
    "    but we are losing lots of information since we keep less than 0.02 rows of the hpg_reserves table!"
   ]
  },
  {
   "cell_type": "code",
   "execution_count": 58,
   "metadata": {
    "scrolled": true
   },
   "outputs": [
    {
     "name": "stdout",
     "output_type": "stream",
     "text": [
      "(2000320, 4) (28183, 5) 0.014089245720684691\n"
     ]
    }
   ],
   "source": [
    "print(hpg_reserve.shape, hpg_air_reserve.shape, hpg_air_reserve.shape[0]/hpg_reserve.shape[0])"
   ]
  },
  {
   "cell_type": "code",
   "execution_count": 59,
   "metadata": {},
   "outputs": [],
   "source": [
    "hpg_air_reserve['visit_datetime'] = pd.to_datetime(hpg_air_reserve['visit_datetime'])\n",
    "hpg_air_reserve['reserve_datetime'] = pd.to_datetime(hpg_air_reserve['reserve_datetime'])\n",
    "hpg_air_reserve['reserve_datetime'] = hpg_air_reserve['reserve_datetime'].dt.date\n",
    "hpg_air_reserve['visit_datetime'] = hpg_air_reserve['visit_datetime'].dt.date\n",
    "hpg_air_reserve['reserve_datetime_diff'] = hpg_air_reserve.apply(lambda x: (\n",
    "    x['visit_datetime'] - x['reserve_datetime']).days, axis=1)"
   ]
  },
  {
   "cell_type": "code",
   "execution_count": 60,
   "metadata": {
    "scrolled": true
   },
   "outputs": [
    {
     "data": {
      "text/html": [
       "<div>\n",
       "<style scoped>\n",
       "    .dataframe tbody tr th:only-of-type {\n",
       "        vertical-align: middle;\n",
       "    }\n",
       "\n",
       "    .dataframe tbody tr th {\n",
       "        vertical-align: top;\n",
       "    }\n",
       "\n",
       "    .dataframe thead th {\n",
       "        text-align: right;\n",
       "    }\n",
       "</style>\n",
       "<table border=\"1\" class=\"dataframe\">\n",
       "  <thead>\n",
       "    <tr style=\"text-align: right;\">\n",
       "      <th></th>\n",
       "      <th>air_store_id</th>\n",
       "      <th>visit_date</th>\n",
       "      <th>hpg_air_reserve_reserve_datetime_diff_mean</th>\n",
       "      <th>hpg_air_reserve_reserve_datetime_diff_min</th>\n",
       "      <th>hpg_air_reserve_reserve_datetime_diff_max</th>\n",
       "      <th>hpg_air_reserve_reserve_datetime_diff_sum</th>\n",
       "      <th>hpg_air_reserve_reserve_datetime_diff_std</th>\n",
       "      <th>hpg_air_reserve_reserve_datetime_diff_median</th>\n",
       "      <th>hpg_air_reserve_reserve_visitors_mean</th>\n",
       "      <th>hpg_air_reserve_reserve_visitors_min</th>\n",
       "      <th>hpg_air_reserve_reserve_visitors_max</th>\n",
       "      <th>hpg_air_reserve_reserve_visitors_sum</th>\n",
       "      <th>hpg_air_reserve_reserve_visitors_std</th>\n",
       "      <th>hpg_air_reserve_reserve_visitors_median</th>\n",
       "    </tr>\n",
       "  </thead>\n",
       "  <tbody>\n",
       "    <tr>\n",
       "      <th>0</th>\n",
       "      <td>air_00a91d42b08b08d9</td>\n",
       "      <td>2016-01-14</td>\n",
       "      <td>3.0</td>\n",
       "      <td>3</td>\n",
       "      <td>3</td>\n",
       "      <td>3</td>\n",
       "      <td>NaN</td>\n",
       "      <td>3.0</td>\n",
       "      <td>2.0</td>\n",
       "      <td>2</td>\n",
       "      <td>2</td>\n",
       "      <td>2</td>\n",
       "      <td>NaN</td>\n",
       "      <td>2.0</td>\n",
       "    </tr>\n",
       "    <tr>\n",
       "      <th>1</th>\n",
       "      <td>air_00a91d42b08b08d9</td>\n",
       "      <td>2016-01-15</td>\n",
       "      <td>6.0</td>\n",
       "      <td>6</td>\n",
       "      <td>6</td>\n",
       "      <td>6</td>\n",
       "      <td>NaN</td>\n",
       "      <td>6.0</td>\n",
       "      <td>4.0</td>\n",
       "      <td>4</td>\n",
       "      <td>4</td>\n",
       "      <td>4</td>\n",
       "      <td>NaN</td>\n",
       "      <td>4.0</td>\n",
       "    </tr>\n",
       "  </tbody>\n",
       "</table>\n",
       "</div>"
      ],
      "text/plain": [
       "           air_store_id  visit_date  \\\n",
       "0  air_00a91d42b08b08d9  2016-01-14   \n",
       "1  air_00a91d42b08b08d9  2016-01-15   \n",
       "\n",
       "   hpg_air_reserve_reserve_datetime_diff_mean  \\\n",
       "0                                         3.0   \n",
       "1                                         6.0   \n",
       "\n",
       "   hpg_air_reserve_reserve_datetime_diff_min  \\\n",
       "0                                          3   \n",
       "1                                          6   \n",
       "\n",
       "   hpg_air_reserve_reserve_datetime_diff_max  \\\n",
       "0                                          3   \n",
       "1                                          6   \n",
       "\n",
       "   hpg_air_reserve_reserve_datetime_diff_sum  \\\n",
       "0                                          3   \n",
       "1                                          6   \n",
       "\n",
       "   hpg_air_reserve_reserve_datetime_diff_std  \\\n",
       "0                                        NaN   \n",
       "1                                        NaN   \n",
       "\n",
       "   hpg_air_reserve_reserve_datetime_diff_median  \\\n",
       "0                                           3.0   \n",
       "1                                           6.0   \n",
       "\n",
       "   hpg_air_reserve_reserve_visitors_mean  \\\n",
       "0                                    2.0   \n",
       "1                                    4.0   \n",
       "\n",
       "   hpg_air_reserve_reserve_visitors_min  hpg_air_reserve_reserve_visitors_max  \\\n",
       "0                                     2                                     2   \n",
       "1                                     4                                     4   \n",
       "\n",
       "   hpg_air_reserve_reserve_visitors_sum  hpg_air_reserve_reserve_visitors_std  \\\n",
       "0                                     2                                   NaN   \n",
       "1                                     4                                   NaN   \n",
       "\n",
       "   hpg_air_reserve_reserve_visitors_median  \n",
       "0                                      2.0  \n",
       "1                                      4.0  "
      ]
     },
     "execution_count": 60,
     "metadata": {},
     "output_type": "execute_result"
    }
   ],
   "source": [
    "# initialize a list to store column names\n",
    "hpg_air_reserve_features = []\n",
    "# aggregation list to aggregate\n",
    "aggregations = ['mean', 'min', 'max', 'sum', 'std', 'median']\n",
    "# groupby and aggregataions\n",
    "gr = hpg_air_reserve.groupby(['air_store_id', 'visit_datetime'])[\n",
    "    ['reserve_datetime_diff', 'reserve_visitors']].agg(aggregations)\n",
    "# change column names\n",
    "gr.columns = ['hpg_air_reserve_{}_{}'.format(e[0], e[1]) for e in gr.columns]\n",
    "# add column nmes\n",
    "hpg_air_reserve_features.extend(gr.columns)\n",
    "# prepare for merge\n",
    "gr = gr.reset_index()\n",
    "gr = gr.rename(columns={'visit_datetime': 'visit_date'})\n",
    "\n",
    "gr.head(2)"
   ]
  },
  {
   "cell_type": "code",
   "execution_count": 61,
   "metadata": {},
   "outputs": [],
   "source": [
    "train = train.merge(gr, how='left', on=['air_store_id','visit_date'])\n",
    "test = test.merge(gr, how='left', on=['air_store_id','visit_date'])"
   ]
  },
  {
   "cell_type": "code",
   "execution_count": 62,
   "metadata": {},
   "outputs": [],
   "source": [
    "# train.head()"
   ]
  },
  {
   "cell_type": "markdown",
   "metadata": {},
   "source": [
    "#### Merge reserve and visit tables"
   ]
  },
  {
   "cell_type": "code",
   "execution_count": 64,
   "metadata": {},
   "outputs": [
    {
     "data": {
      "text/html": [
       "<div>\n",
       "<style scoped>\n",
       "    .dataframe tbody tr th:only-of-type {\n",
       "        vertical-align: middle;\n",
       "    }\n",
       "\n",
       "    .dataframe tbody tr th {\n",
       "        vertical-align: top;\n",
       "    }\n",
       "\n",
       "    .dataframe thead th {\n",
       "        text-align: right;\n",
       "    }\n",
       "</style>\n",
       "<table border=\"1\" class=\"dataframe\">\n",
       "  <thead>\n",
       "    <tr style=\"text-align: right;\">\n",
       "      <th></th>\n",
       "      <th>air_store_id</th>\n",
       "      <th>visit_datetime</th>\n",
       "      <th>reserve_datetime</th>\n",
       "      <th>reserve_visitors</th>\n",
       "      <th>reserve_datetime_diff</th>\n",
       "    </tr>\n",
       "  </thead>\n",
       "  <tbody>\n",
       "    <tr>\n",
       "      <th>0</th>\n",
       "      <td>air_877f79706adbfb06</td>\n",
       "      <td>2016-01-01</td>\n",
       "      <td>2016-01-01</td>\n",
       "      <td>1</td>\n",
       "      <td>0</td>\n",
       "    </tr>\n",
       "    <tr>\n",
       "      <th>1</th>\n",
       "      <td>air_db4b38ebe7a7ceff</td>\n",
       "      <td>2016-01-01</td>\n",
       "      <td>2016-01-01</td>\n",
       "      <td>3</td>\n",
       "      <td>0</td>\n",
       "    </tr>\n",
       "    <tr>\n",
       "      <th>2</th>\n",
       "      <td>air_db4b38ebe7a7ceff</td>\n",
       "      <td>2016-01-01</td>\n",
       "      <td>2016-01-01</td>\n",
       "      <td>6</td>\n",
       "      <td>0</td>\n",
       "    </tr>\n",
       "    <tr>\n",
       "      <th>3</th>\n",
       "      <td>air_877f79706adbfb06</td>\n",
       "      <td>2016-01-01</td>\n",
       "      <td>2016-01-01</td>\n",
       "      <td>2</td>\n",
       "      <td>0</td>\n",
       "    </tr>\n",
       "    <tr>\n",
       "      <th>4</th>\n",
       "      <td>air_db80363d35f10926</td>\n",
       "      <td>2016-01-01</td>\n",
       "      <td>2016-01-01</td>\n",
       "      <td>5</td>\n",
       "      <td>0</td>\n",
       "    </tr>\n",
       "  </tbody>\n",
       "</table>\n",
       "</div>"
      ],
      "text/plain": [
       "           air_store_id visit_datetime reserve_datetime  reserve_visitors  \\\n",
       "0  air_877f79706adbfb06     2016-01-01       2016-01-01                 1   \n",
       "1  air_db4b38ebe7a7ceff     2016-01-01       2016-01-01                 3   \n",
       "2  air_db4b38ebe7a7ceff     2016-01-01       2016-01-01                 6   \n",
       "3  air_877f79706adbfb06     2016-01-01       2016-01-01                 2   \n",
       "4  air_db80363d35f10926     2016-01-01       2016-01-01                 5   \n",
       "\n",
       "   reserve_datetime_diff  \n",
       "0                      0  \n",
       "1                      0  \n",
       "2                      0  \n",
       "3                      0  \n",
       "4                      0  "
      ]
     },
     "execution_count": 64,
     "metadata": {},
     "output_type": "execute_result"
    }
   ],
   "source": [
    "air_reserve.head()"
   ]
  },
  {
   "cell_type": "code",
   "execution_count": 65,
   "metadata": {},
   "outputs": [],
   "source": [
    "air_reserve = air_reserve.rename(columns={'visit_datetime':'visit_date'})"
   ]
  },
  {
   "cell_type": "code",
   "execution_count": 66,
   "metadata": {},
   "outputs": [],
   "source": [
    "train = pd.merge(train, air_reserve, how='left', on=['air_store_id','visit_date']) \n",
    "test = pd.merge(test, air_reserve, how='left', on=['air_store_id','visit_date'])"
   ]
  },
  {
   "cell_type": "code",
   "execution_count": 67,
   "metadata": {},
   "outputs": [],
   "source": [
    "# train['id'] = train.apply(lambda r: '_'.join([str(r['air_store_id']), str(r['visit_date'])]), axis=1)"
   ]
  },
  {
   "cell_type": "markdown",
   "metadata": {},
   "source": [
    "#### Holiday"
   ]
  },
  {
   "cell_type": "code",
   "execution_count": 68,
   "metadata": {
    "scrolled": true
   },
   "outputs": [
    {
     "data": {
      "text/html": [
       "<div>\n",
       "<style scoped>\n",
       "    .dataframe tbody tr th:only-of-type {\n",
       "        vertical-align: middle;\n",
       "    }\n",
       "\n",
       "    .dataframe tbody tr th {\n",
       "        vertical-align: top;\n",
       "    }\n",
       "\n",
       "    .dataframe thead th {\n",
       "        text-align: right;\n",
       "    }\n",
       "</style>\n",
       "<table border=\"1\" class=\"dataframe\">\n",
       "  <thead>\n",
       "    <tr style=\"text-align: right;\">\n",
       "      <th></th>\n",
       "      <th>calendar_date</th>\n",
       "      <th>day_of_week</th>\n",
       "      <th>holiday_flg</th>\n",
       "    </tr>\n",
       "  </thead>\n",
       "  <tbody>\n",
       "    <tr>\n",
       "      <th>0</th>\n",
       "      <td>2016-01-01</td>\n",
       "      <td>Friday</td>\n",
       "      <td>1</td>\n",
       "    </tr>\n",
       "    <tr>\n",
       "      <th>1</th>\n",
       "      <td>2016-01-02</td>\n",
       "      <td>Saturday</td>\n",
       "      <td>1</td>\n",
       "    </tr>\n",
       "    <tr>\n",
       "      <th>2</th>\n",
       "      <td>2016-01-03</td>\n",
       "      <td>Sunday</td>\n",
       "      <td>1</td>\n",
       "    </tr>\n",
       "    <tr>\n",
       "      <th>3</th>\n",
       "      <td>2016-01-04</td>\n",
       "      <td>Monday</td>\n",
       "      <td>0</td>\n",
       "    </tr>\n",
       "    <tr>\n",
       "      <th>4</th>\n",
       "      <td>2016-01-05</td>\n",
       "      <td>Tuesday</td>\n",
       "      <td>0</td>\n",
       "    </tr>\n",
       "  </tbody>\n",
       "</table>\n",
       "</div>"
      ],
      "text/plain": [
       "  calendar_date day_of_week  holiday_flg\n",
       "0    2016-01-01      Friday            1\n",
       "1    2016-01-02    Saturday            1\n",
       "2    2016-01-03      Sunday            1\n",
       "3    2016-01-04      Monday            0\n",
       "4    2016-01-05     Tuesday            0"
      ]
     },
     "execution_count": 68,
     "metadata": {},
     "output_type": "execute_result"
    }
   ],
   "source": [
    "date_info.head()"
   ]
  },
  {
   "cell_type": "code",
   "execution_count": 69,
   "metadata": {},
   "outputs": [],
   "source": [
    "date_info = date_info.rename(columns={'calendar_date': 'visit_date'})\n",
    "date_info['visit_date'] = pd.to_datetime(date_info['visit_date'])\n",
    "# date_info['dow'] = lbl.fit_transform(date_info['day_of_week'])\n",
    "date_info['visit_date'] = date_info['visit_date'].dt.date"
   ]
  },
  {
   "cell_type": "code",
   "execution_count": 70,
   "metadata": {},
   "outputs": [],
   "source": [
    "train = pd.merge(train, date_info[['visit_date', 'holiday_flg']], how='left', on=['visit_date']) \n",
    "test = pd.merge(test, date_info[['visit_date', 'holiday_flg']], how='left', on=['visit_date']) "
   ]
  },
  {
   "cell_type": "markdown",
   "metadata": {},
   "source": [
    "# Use id as a feature"
   ]
  },
  {
   "cell_type": "code",
   "execution_count": 71,
   "metadata": {},
   "outputs": [],
   "source": [
    "lbl = preprocessing.LabelEncoder()\n",
    "train['le_air_store_id'] = lbl.fit_transform(train['air_store_id'])\n",
    "test['le_air_store_id'] = lbl.transform(test['air_store_id'])\n",
    "\n",
    "# col = [c for c in train if c not in ['id', 'air_store_id', 'visit_date','visitors']]\n",
    "# train = train.fillna(-1)\n",
    "# test = test.fillna(-1)"
   ]
  },
  {
   "cell_type": "code",
   "execution_count": 72,
   "metadata": {},
   "outputs": [],
   "source": [
    "col = [c for c in train if c not in ['id','visitors']]"
   ]
  },
  {
   "cell_type": "code",
   "execution_count": 73,
   "metadata": {},
   "outputs": [],
   "source": [
    "target = train['visitors']"
   ]
  },
  {
   "cell_type": "code",
   "execution_count": 74,
   "metadata": {},
   "outputs": [],
   "source": [
    "train[col].to_pickle('./stored_files/24_12_train.pkl')"
   ]
  },
  {
   "cell_type": "code",
   "execution_count": 75,
   "metadata": {},
   "outputs": [],
   "source": [
    "# train[col].isna().sum().sort_values(ascending=False)"
   ]
  },
  {
   "cell_type": "code",
   "execution_count": 76,
   "metadata": {},
   "outputs": [],
   "source": [
    "test[col].to_pickle('./stored_files/24_12_test.pkl')"
   ]
  },
  {
   "cell_type": "code",
   "execution_count": 77,
   "metadata": {},
   "outputs": [],
   "source": [
    "target.to_pickle('./stored_files/24_12_target.pkl')"
   ]
  },
  {
   "cell_type": "markdown",
   "metadata": {},
   "source": [
    "### ref\n",
    "\n",
    "https://machinelearningmastery.com/time-series-data-stationary-python/"
   ]
  }
 ],
 "metadata": {
  "kernelspec": {
   "display_name": "Python 3",
   "language": "python",
   "name": "python3"
  },
  "language_info": {
   "codemirror_mode": {
    "name": "ipython",
    "version": 3
   },
   "file_extension": ".py",
   "mimetype": "text/x-python",
   "name": "python",
   "nbconvert_exporter": "python",
   "pygments_lexer": "ipython3",
   "version": "3.6.6"
  }
 },
 "nbformat": 4,
 "nbformat_minor": 2
}
